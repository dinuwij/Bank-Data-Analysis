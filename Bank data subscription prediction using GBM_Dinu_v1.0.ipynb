{
 "cells": [
  {
   "cell_type": "markdown",
   "metadata": {},
   "source": [
    "#### Import libraries\n"
   ]
  },
  {
   "cell_type": "code",
   "execution_count": 2,
   "metadata": {},
   "outputs": [],
   "source": [
    "#Import libraries\n",
    "#install.packages(\"Boruta\")\n",
    "library(data.table)       # Data manipulation\n",
    "library(plyr)             # Data manipulation\n",
    "library(stringr)          # String, text processing\n",
    "library(vita)             # Quickly check variable importance\n",
    "library(dataPreparation)  # Data preparation library\n",
    "library(woeBinning)       # Decision tree–based binning for numerical and categorical variables\n",
    "library(Boruta)           # Variable selection\n",
    "library(varhandle)\n",
    "library(stringr)\n",
    "library(mlr)\n",
    "library(ROCR)\n",
    "library(ggplot2)\n",
    "\n",
    "library(woeBinning)  # Bin numerical and categorical variables\n",
    "library(Boruta)  # Variable selection\n",
    "\n",
    "# Machine learning library\n",
    "library(mlr) # Machine learning framework\n",
    "library(caret)\n",
    "library(MASS)  # LDA\n",
    "library(randomForest)  # RF\n",
    "library(gbm)  # Boosting library\n",
    "library(xgboost)  # XGboost\n",
    "\n"
   ]
  },
  {
   "cell_type": "markdown",
   "metadata": {},
   "source": [
    "##### References\n",
    "In-class Kaggle Competition_Example_v3\n",
    "\n",
    "Evaluating performance https://mlr.mlr-org.com/articles/tutorial/performance.html\n",
    "\n",
    "Practice machine learning techniques in R with MLR package https://www.analyticsvidhya.com/blog/2016/08/practicing-machine-learning-techniques-in-r-with-mlr-package/"
   ]
  },
  {
   "cell_type": "markdown",
   "metadata": {},
   "source": [
    "# Bank Data Subscription Prediction on Term Deposits"
   ]
  },
  {
   "cell_type": "code",
   "execution_count": 38,
   "metadata": {},
   "outputs": [],
   "source": [
    "#Import data\n",
    "trainSet = read.csv(file = \"C:/Users/dwijayaweera/Documents/2nd STAT &MIL for marketing/mbd2019-in-class-competition-bank-mkt/bank_mkt_train.csv\")\n",
    "predictSet = read.csv(file = \"C:/Users/dwijayaweera/Documents/2nd STAT &MIL for marketing/mbd2019-in-class-competition-bank-mkt/bank_mkt_test.csv\")\n",
    "\n",
    "\n",
    "\n",
    "# The predict set would be the data set which requires the prediction and it would not contain the target variable\n"
   ]
  },
  {
   "cell_type": "markdown",
   "metadata": {},
   "source": [
    "#### Investigate Data"
   ]
  },
  {
   "cell_type": "code",
   "execution_count": 39,
   "metadata": {},
   "outputs": [
    {
     "data": {
      "text/html": [
       "<table>\n",
       "<thead><tr><th scope=col>client_id</th><th scope=col>age</th><th scope=col>job</th><th scope=col>marital</th><th scope=col>education</th><th scope=col>default</th><th scope=col>housing</th><th scope=col>loan</th><th scope=col>contact</th><th scope=col>month</th><th scope=col>...</th><th scope=col>campaign</th><th scope=col>pdays</th><th scope=col>previous</th><th scope=col>poutcome</th><th scope=col>emp.var.rate</th><th scope=col>cons.price.idx</th><th scope=col>cons.conf.idx</th><th scope=col>euribor3m</th><th scope=col>nr.employed</th><th scope=col>subscribe</th></tr></thead>\n",
       "<tbody>\n",
       "\t<tr><td>2                </td><td>29               </td><td>housemaid        </td><td>single           </td><td>high.school      </td><td>no               </td><td>no               </td><td>no               </td><td>telephone        </td><td>may              </td><td>...              </td><td>3                </td><td>999              </td><td>0                </td><td>nonexistent      </td><td> 1.1             </td><td>93.994           </td><td>-36.4            </td><td>4.858            </td><td>5191.0           </td><td>0                </td></tr>\n",
       "\t<tr><td>3                </td><td>39               </td><td>unemployed       </td><td>married          </td><td>basic.9y         </td><td>unknown          </td><td>yes              </td><td>no               </td><td>telephone        </td><td>jun              </td><td>...              </td><td>6                </td><td>999              </td><td>0                </td><td>nonexistent      </td><td> 1.4             </td><td>94.465           </td><td>-41.8            </td><td>4.959            </td><td>5228.1           </td><td>0                </td></tr>\n",
       "\t<tr><td>4                </td><td>49               </td><td>blue-collar      </td><td>married          </td><td>basic.6y         </td><td>unknown          </td><td>no               </td><td>no               </td><td>cellular         </td><td>nov              </td><td>...              </td><td>2                </td><td>999              </td><td>0                </td><td>nonexistent      </td><td>-0.1             </td><td>93.200           </td><td>-42.0            </td><td>4.153            </td><td>5195.8           </td><td>0                </td></tr>\n",
       "\t<tr><td>5                </td><td>32               </td><td>self-employed    </td><td>single           </td><td>university.degree</td><td>no               </td><td>yes              </td><td>no               </td><td>cellular         </td><td>may              </td><td>...              </td><td>3                </td><td>999              </td><td>1                </td><td>failure          </td><td>-1.8             </td><td>92.893           </td><td>-46.2            </td><td>1.299            </td><td>5099.1           </td><td>0                </td></tr>\n",
       "\t<tr><td>6                </td><td>29               </td><td>admin.           </td><td>single           </td><td>high.school      </td><td>unknown          </td><td>yes              </td><td>no               </td><td>cellular         </td><td>jul              </td><td>...              </td><td>2                </td><td>999              </td><td>0                </td><td>nonexistent      </td><td> 1.4             </td><td>93.918           </td><td>-42.7            </td><td>4.963            </td><td>5228.1           </td><td>0                </td></tr>\n",
       "\t<tr><td>7                </td><td>51               </td><td>self-employed    </td><td>married          </td><td>university.degree</td><td>unknown          </td><td>yes              </td><td>no               </td><td>telephone        </td><td>jun              </td><td>...              </td><td>1                </td><td>999              </td><td>0                </td><td>nonexistent      </td><td> 1.4             </td><td>94.465           </td><td>-41.8            </td><td>4.864            </td><td>5228.1           </td><td>0                </td></tr>\n",
       "</tbody>\n",
       "</table>\n"
      ],
      "text/latex": [
       "\\begin{tabular}{r|lllllllllllllllllllll}\n",
       " client\\_id & age & job & marital & education & default & housing & loan & contact & month & ... & campaign & pdays & previous & poutcome & emp.var.rate & cons.price.idx & cons.conf.idx & euribor3m & nr.employed & subscribe\\\\\n",
       "\\hline\n",
       "\t 2                 & 29                & housemaid         & single            & high.school       & no                & no                & no                & telephone         & may               & ...               & 3                 & 999               & 0                 & nonexistent       &  1.1              & 93.994            & -36.4             & 4.858             & 5191.0            & 0                \\\\\n",
       "\t 3                 & 39                & unemployed        & married           & basic.9y          & unknown           & yes               & no                & telephone         & jun               & ...               & 6                 & 999               & 0                 & nonexistent       &  1.4              & 94.465            & -41.8             & 4.959             & 5228.1            & 0                \\\\\n",
       "\t 4                 & 49                & blue-collar       & married           & basic.6y          & unknown           & no                & no                & cellular          & nov               & ...               & 2                 & 999               & 0                 & nonexistent       & -0.1              & 93.200            & -42.0             & 4.153             & 5195.8            & 0                \\\\\n",
       "\t 5                 & 32                & self-employed     & single            & university.degree & no                & yes               & no                & cellular          & may               & ...               & 3                 & 999               & 1                 & failure           & -1.8              & 92.893            & -46.2             & 1.299             & 5099.1            & 0                \\\\\n",
       "\t 6                 & 29                & admin.            & single            & high.school       & unknown           & yes               & no                & cellular          & jul               & ...               & 2                 & 999               & 0                 & nonexistent       &  1.4              & 93.918            & -42.7             & 4.963             & 5228.1            & 0                \\\\\n",
       "\t 7                 & 51                & self-employed     & married           & university.degree & unknown           & yes               & no                & telephone         & jun               & ...               & 1                 & 999               & 0                 & nonexistent       &  1.4              & 94.465            & -41.8             & 4.864             & 5228.1            & 0                \\\\\n",
       "\\end{tabular}\n"
      ],
      "text/markdown": [
       "\n",
       "| client_id | age | job | marital | education | default | housing | loan | contact | month | ... | campaign | pdays | previous | poutcome | emp.var.rate | cons.price.idx | cons.conf.idx | euribor3m | nr.employed | subscribe |\n",
       "|---|---|---|---|---|---|---|---|---|---|---|---|---|---|---|---|---|---|---|---|---|\n",
       "| 2                 | 29                | housemaid         | single            | high.school       | no                | no                | no                | telephone         | may               | ...               | 3                 | 999               | 0                 | nonexistent       |  1.1              | 93.994            | -36.4             | 4.858             | 5191.0            | 0                 |\n",
       "| 3                 | 39                | unemployed        | married           | basic.9y          | unknown           | yes               | no                | telephone         | jun               | ...               | 6                 | 999               | 0                 | nonexistent       |  1.4              | 94.465            | -41.8             | 4.959             | 5228.1            | 0                 |\n",
       "| 4                 | 49                | blue-collar       | married           | basic.6y          | unknown           | no                | no                | cellular          | nov               | ...               | 2                 | 999               | 0                 | nonexistent       | -0.1              | 93.200            | -42.0             | 4.153             | 5195.8            | 0                 |\n",
       "| 5                 | 32                | self-employed     | single            | university.degree | no                | yes               | no                | cellular          | may               | ...               | 3                 | 999               | 1                 | failure           | -1.8              | 92.893            | -46.2             | 1.299             | 5099.1            | 0                 |\n",
       "| 6                 | 29                | admin.            | single            | high.school       | unknown           | yes               | no                | cellular          | jul               | ...               | 2                 | 999               | 0                 | nonexistent       |  1.4              | 93.918            | -42.7             | 4.963             | 5228.1            | 0                 |\n",
       "| 7                 | 51                | self-employed     | married           | university.degree | unknown           | yes               | no                | telephone         | jun               | ...               | 1                 | 999               | 0                 | nonexistent       |  1.4              | 94.465            | -41.8             | 4.864             | 5228.1            | 0                 |\n",
       "\n"
      ],
      "text/plain": [
       "  client_id age job           marital education         default housing loan\n",
       "1 2         29  housemaid     single  high.school       no      no      no  \n",
       "2 3         39  unemployed    married basic.9y          unknown yes     no  \n",
       "3 4         49  blue-collar   married basic.6y          unknown no      no  \n",
       "4 5         32  self-employed single  university.degree no      yes     no  \n",
       "5 6         29  admin.        single  high.school       unknown yes     no  \n",
       "6 7         51  self-employed married university.degree unknown yes     no  \n",
       "  contact   month ... campaign pdays previous poutcome    emp.var.rate\n",
       "1 telephone may   ... 3        999   0        nonexistent  1.1        \n",
       "2 telephone jun   ... 6        999   0        nonexistent  1.4        \n",
       "3 cellular  nov   ... 2        999   0        nonexistent -0.1        \n",
       "4 cellular  may   ... 3        999   1        failure     -1.8        \n",
       "5 cellular  jul   ... 2        999   0        nonexistent  1.4        \n",
       "6 telephone jun   ... 1        999   0        nonexistent  1.4        \n",
       "  cons.price.idx cons.conf.idx euribor3m nr.employed subscribe\n",
       "1 93.994         -36.4         4.858     5191.0      0        \n",
       "2 94.465         -41.8         4.959     5228.1      0        \n",
       "3 93.200         -42.0         4.153     5195.8      0        \n",
       "4 92.893         -46.2         1.299     5099.1      0        \n",
       "5 93.918         -42.7         4.963     5228.1      0        \n",
       "6 94.465         -41.8         4.864     5228.1      0        "
      ]
     },
     "metadata": {},
     "output_type": "display_data"
    }
   ],
   "source": [
    "head(trainSet)"
   ]
  },
  {
   "cell_type": "code",
   "execution_count": 40,
   "metadata": {},
   "outputs": [
    {
     "name": "stdout",
     "output_type": "stream",
     "text": [
      "'data.frame':\t7000 obs. of  21 variables:\n",
      " $ client_id     : int  2 3 4 5 6 7 8 9 14 15 ...\n",
      " $ age           : int  29 39 49 32 29 51 34 52 52 29 ...\n",
      " $ job           : Factor w/ 12 levels \"admin.\",\"blue-collar\",..: 4 11 2 7 1 7 2 8 1 1 ...\n",
      " $ marital       : Factor w/ 4 levels \"divorced\",\"married\",..: 3 2 2 3 3 2 2 2 2 3 ...\n",
      " $ education     : Factor w/ 8 levels \"basic.4y\",\"basic.6y\",..: 4 3 2 7 4 7 1 4 7 7 ...\n",
      " $ default       : Factor w/ 2 levels \"no\",\"unknown\": 1 2 2 1 2 2 1 1 1 1 ...\n",
      " $ housing       : Factor w/ 3 levels \"no\",\"unknown\",..: 1 3 1 3 3 3 3 3 3 3 ...\n",
      " $ loan          : Factor w/ 3 levels \"no\",\"unknown\",..: 1 1 1 1 1 1 1 1 1 1 ...\n",
      " $ contact       : Factor w/ 2 levels \"cellular\",\"telephone\": 2 2 1 1 1 2 1 1 1 1 ...\n",
      " $ month         : Factor w/ 10 levels \"apr\",\"aug\",\"dec\",..: 7 5 8 7 4 5 8 8 8 5 ...\n",
      " $ day_of_week   : Factor w/ 5 levels \"fri\",\"mon\",\"thu\",..: 2 1 4 2 1 4 4 4 3 2 ...\n",
      " $ campaign      : int  3 6 2 3 2 1 1 1 3 1 ...\n",
      " $ pdays         : int  999 999 999 999 999 999 999 999 999 999 ...\n",
      " $ previous      : int  0 0 0 1 0 0 0 0 0 0 ...\n",
      " $ poutcome      : Factor w/ 3 levels \"failure\",\"nonexistent\",..: 2 2 2 1 2 2 2 2 2 2 ...\n",
      " $ emp.var.rate  : num  1.1 1.4 -0.1 -1.8 1.4 1.4 -0.1 -0.1 -0.1 -2.9 ...\n",
      " $ cons.price.idx: num  94 94.5 93.2 92.9 93.9 ...\n",
      " $ cons.conf.idx : num  -36.4 -41.8 -42 -46.2 -42.7 -41.8 -42 -42 -42 -40.8 ...\n",
      " $ euribor3m     : num  4.86 4.96 4.15 1.3 4.96 ...\n",
      " $ nr.employed   : num  5191 5228 5196 5099 5228 ...\n",
      " $ subscribe     : int  0 0 0 0 0 0 0 0 0 0 ...\n"
     ]
    }
   ],
   "source": [
    "str(trainSet)"
   ]
  },
  {
   "cell_type": "code",
   "execution_count": 41,
   "metadata": {},
   "outputs": [
    {
     "data": {
      "text/html": [
       "<dl class=dl-horizontal>\n",
       "\t<dt>client_id</dt>\n",
       "\t\t<dd>0</dd>\n",
       "\t<dt>age</dt>\n",
       "\t\t<dd>0</dd>\n",
       "\t<dt>job</dt>\n",
       "\t\t<dd>0</dd>\n",
       "\t<dt>marital</dt>\n",
       "\t\t<dd>0</dd>\n",
       "\t<dt>education</dt>\n",
       "\t\t<dd>0</dd>\n",
       "\t<dt>default</dt>\n",
       "\t\t<dd>0</dd>\n",
       "\t<dt>housing</dt>\n",
       "\t\t<dd>0</dd>\n",
       "\t<dt>loan</dt>\n",
       "\t\t<dd>0</dd>\n",
       "\t<dt>contact</dt>\n",
       "\t\t<dd>0</dd>\n",
       "\t<dt>month</dt>\n",
       "\t\t<dd>0</dd>\n",
       "\t<dt>day_of_week</dt>\n",
       "\t\t<dd>0</dd>\n",
       "\t<dt>campaign</dt>\n",
       "\t\t<dd>0</dd>\n",
       "\t<dt>pdays</dt>\n",
       "\t\t<dd>0</dd>\n",
       "\t<dt>previous</dt>\n",
       "\t\t<dd>0</dd>\n",
       "\t<dt>poutcome</dt>\n",
       "\t\t<dd>0</dd>\n",
       "\t<dt>emp.var.rate</dt>\n",
       "\t\t<dd>0</dd>\n",
       "\t<dt>cons.price.idx</dt>\n",
       "\t\t<dd>0</dd>\n",
       "\t<dt>cons.conf.idx</dt>\n",
       "\t\t<dd>0</dd>\n",
       "\t<dt>euribor3m</dt>\n",
       "\t\t<dd>0</dd>\n",
       "\t<dt>nr.employed</dt>\n",
       "\t\t<dd>0</dd>\n",
       "\t<dt>subscribe</dt>\n",
       "\t\t<dd>0</dd>\n",
       "</dl>\n"
      ],
      "text/latex": [
       "\\begin{description*}\n",
       "\\item[client\\textbackslash{}\\_id] 0\n",
       "\\item[age] 0\n",
       "\\item[job] 0\n",
       "\\item[marital] 0\n",
       "\\item[education] 0\n",
       "\\item[default] 0\n",
       "\\item[housing] 0\n",
       "\\item[loan] 0\n",
       "\\item[contact] 0\n",
       "\\item[month] 0\n",
       "\\item[day\\textbackslash{}\\_of\\textbackslash{}\\_week] 0\n",
       "\\item[campaign] 0\n",
       "\\item[pdays] 0\n",
       "\\item[previous] 0\n",
       "\\item[poutcome] 0\n",
       "\\item[emp.var.rate] 0\n",
       "\\item[cons.price.idx] 0\n",
       "\\item[cons.conf.idx] 0\n",
       "\\item[euribor3m] 0\n",
       "\\item[nr.employed] 0\n",
       "\\item[subscribe] 0\n",
       "\\end{description*}\n"
      ],
      "text/markdown": [
       "client_id\n",
       ":   0age\n",
       ":   0job\n",
       ":   0marital\n",
       ":   0education\n",
       ":   0default\n",
       ":   0housing\n",
       ":   0loan\n",
       ":   0contact\n",
       ":   0month\n",
       ":   0day_of_week\n",
       ":   0campaign\n",
       ":   0pdays\n",
       ":   0previous\n",
       ":   0poutcome\n",
       ":   0emp.var.rate\n",
       ":   0cons.price.idx\n",
       ":   0cons.conf.idx\n",
       ":   0euribor3m\n",
       ":   0nr.employed\n",
       ":   0subscribe\n",
       ":   0\n",
       "\n"
      ],
      "text/plain": [
       "     client_id            age            job        marital      education \n",
       "             0              0              0              0              0 \n",
       "       default        housing           loan        contact          month \n",
       "             0              0              0              0              0 \n",
       "   day_of_week       campaign          pdays       previous       poutcome \n",
       "             0              0              0              0              0 \n",
       "  emp.var.rate cons.price.idx  cons.conf.idx      euribor3m    nr.employed \n",
       "             0              0              0              0              0 \n",
       "     subscribe \n",
       "             0 "
      ]
     },
     "metadata": {},
     "output_type": "display_data"
    }
   ],
   "source": [
    "# Check NA\n",
    "apply(is.na(trainSet), 2, sum)"
   ]
  },
  {
   "cell_type": "code",
   "execution_count": 42,
   "metadata": {},
   "outputs": [
    {
     "data": {
      "text/plain": [
       "\n",
       "        0         1 \n",
       "0.8825714 0.1174286 "
      ]
     },
     "metadata": {},
     "output_type": "display_data"
    }
   ],
   "source": [
    "# Check the target variable class distribution by percentage in the whole train dataset.\n",
    "table(trainSet$subscribe) / nrow(trainSet)"
   ]
  },
  {
   "cell_type": "code",
   "execution_count": 43,
   "metadata": {},
   "outputs": [
    {
     "data": {
      "image/png": "[encoded data removed]",
      "text/plain": [
       "plot without title"
      ]
     },
     "metadata": {},
     "output_type": "display_data"
    }
   ],
   "source": [
    "plot(trainSet$housing)"
   ]
  },
  {
   "cell_type": "code",
   "execution_count": 44,
   "metadata": {},
   "outputs": [
    {
     "data": {
      "image/png": "[encoded data removed]",
      "text/plain": [
       "Plot with title \"Histogram of trainSet$age\""
      ]
     },
     "metadata": {},
     "output_type": "display_data"
    }
   ],
   "source": [
    "hist(trainSet$age)"
   ]
  },
  {
   "cell_type": "code",
   "execution_count": 45,
   "metadata": {},
   "outputs": [
    {
     "data": {
      "text/html": [
       "0"
      ],
      "text/latex": [
       "0"
      ],
      "text/markdown": [
       "0"
      ],
      "text/plain": [
       "[1] 0"
      ]
     },
     "metadata": {},
     "output_type": "display_data"
    },
    {
     "data": {
      "text/html": [
       "0"
      ],
      "text/latex": [
       "0"
      ],
      "text/markdown": [
       "0"
      ],
      "text/plain": [
       "[1] 0"
      ]
     },
     "metadata": {},
     "output_type": "display_data"
    }
   ],
   "source": [
    "# Fix the value of campaign as it includes last contact\n",
    "trainSet[, 'campaign'] <- trainSet[, 'campaign'] - 1\n",
    "predictSet[, 'campaign'] <- predictSet[, 'campaign'] - 1\n",
    "\n",
    "# Quick check\n",
    "min(trainSet[, 'campaign'])  # Previously = 1\n",
    "min(predictSet[, 'campaign'])  # Previously = 1"
   ]
  },
  {
   "cell_type": "code",
   "execution_count": 46,
   "metadata": {},
   "outputs": [],
   "source": [
    "set.seed(10)\n",
    "\n",
    "train_idx <- caret::createDataPartition(y=trainSet[, 'subscribe'], p=.75, list=F)\n",
    "train <- trainSet[train_idx, ]  # Train 75%\n",
    "test <- trainSet[-train_idx, ] #Test 25%"
   ]
  },
  {
   "cell_type": "code",
   "execution_count": 47,
   "metadata": {},
   "outputs": [
    {
     "data": {
      "text/plain": [
       "\n",
       "   0    1 \n",
       "0.88 0.12 "
      ]
     },
     "metadata": {},
     "output_type": "display_data"
    },
    {
     "data": {
      "text/plain": [
       "\n",
       "        0         1 \n",
       "0.8902857 0.1097143 "
      ]
     },
     "metadata": {},
     "output_type": "display_data"
    }
   ],
   "source": [
    "# Checking the percentage distribution of target variable in each set\n",
    "table(train$subscribe)/nrow(train)\n",
    "\n",
    "table(test$subscribe)/nrow(test)"
   ]
  },
  {
   "cell_type": "markdown",
   "metadata": {},
   "source": [
    "#### Feature engineering"
   ]
  },
  {
   "cell_type": "code",
   "execution_count": 48,
   "metadata": {},
   "outputs": [],
   "source": [
    "#pdays : 99 previously not contacted customers\n",
    "\n",
    "#On Train\n",
    "train[, 'pdays_notcontacted'] <- as.integer(train$pdays == 999)\n",
    "#On Test\n",
    "test[, 'pdays_notcontacted'] <- as.integer(test$pdays == 999)\n",
    "\n",
    "#On predictSet\n",
    "predictSet[, 'pdays_notcontacted'] <- as.integer(predictSet$pdays == 999)"
   ]
  },
  {
   "cell_type": "code",
   "execution_count": 49,
   "metadata": {},
   "outputs": [],
   "source": [
    "# Add new seasons variable to train and test (holdout)\n",
    "# Train\n",
    "train[, 'month_spring'] <- as.integer(train$month %in% c('mar','apr', 'may'))\n",
    "train[, 'month_summer'] <- as.integer(train$month %in% c('jun','jul', 'aug'))\n",
    "train[, 'month_autumn'] <- as.integer(train$month %in% c('sep','oct', 'nov'))\n",
    "train[, 'month_winter'] <- as.integer(train$month %in% c('dec','jan', 'feb'))\n",
    "\n",
    "# Test \n",
    "test[, 'month_spring'] <- as.integer(test$month %in% c('mar','apr', 'may'))\n",
    "test[, 'month_summer'] <- as.integer(test$month %in% c('jun','jul', 'aug'))\n",
    "test[, 'month_autumn'] <- as.integer(test$month %in% c('sep','oct', 'nov'))\n",
    "test[, 'month_winter'] <- as.integer(test$month %in% c('dec','jan', 'feb'))\n",
    "\n",
    "\n",
    "#PredictSet\n",
    "predictSet[, 'month_spring'] <- as.integer(predictSet$month %in% c('mar','apr', 'may'))\n",
    "predictSet[, 'month_summer'] <- as.integer(predictSet$month %in% c('jun','jul', 'aug'))\n",
    "predictSet[, 'month_autumn'] <- as.integer(predictSet$month %in% c('sep','oct', 'nov'))\n",
    "predictSet[, 'month_winter'] <- as.integer(predictSet$month %in% c('dec','jan', 'feb'))"
   ]
  },
  {
   "cell_type": "code",
   "execution_count": 50,
   "metadata": {},
   "outputs": [],
   "source": [
    "# Add new variable to train and prediction set (holdout)\n",
    "# On Train set\n",
    "train[, 'age_ge_mean'] <- as.integer(train$age >= mean(train$age))\n",
    "\n",
    "# On Train set\n",
    "test[, 'age_ge_mean'] <- as.integer(test$age >= mean(test$age))\n",
    "\n",
    "\n",
    "# On predictSet\n",
    "predictSet[, 'age_ge_mean'] <- as.integer(predictSet$age >= mean(train$age))"
   ]
  },
  {
   "cell_type": "code",
   "execution_count": 51,
   "metadata": {},
   "outputs": [],
   "source": [
    "#education 2 categories\n",
    "#on trainset\n",
    "train[, 'edu_ge_highschool'] <- as.integer(train$education %in% c('high.school ','university.degree', ' professional.course'))\n",
    "train[, 'edu_le_basic'] <- as.integer(train$education %in% c('basic.9y ','basic.6y ', 'basic.4y ', 'unknown', 'illiterate'))\n",
    "\n",
    "#on trainset\n",
    "test[, 'edu_ge_highschool'] <- as.integer(test$education %in% c('high.school ','university.degree', ' professional.course'))\n",
    "test[, 'edu_le_basic'] <- as.integer(test$education %in% c('basic.9y ','basic.6y ', 'basic.4y ', 'unknown', 'illiterate'))\n",
    "\n",
    "\n",
    "#on predict set\n",
    "predictSet[, 'edu_ge_highschool'] <- as.integer(predictSet$education %in% c('high.school ','university.degree', ' professional.course'))\n",
    "predictSet[, 'edu_le_basic'] <- as.integer(predictSet$education %in% c('basic.9y ','basic.6y ', 'basic.4y ', 'unknown', 'illiterate'))\n",
    "\n"
   ]
  },
  {
   "cell_type": "code",
   "execution_count": 52,
   "metadata": {},
   "outputs": [],
   "source": [
    "#psuccess\n",
    "#On Train\n",
    "train[, 'poutcome_success'] <- as.integer(train$pdays == 'success')\n",
    "\n",
    "#On Test\n",
    "test[, 'poutcome_success'] <- as.integer(test$pdays == 'success')\n",
    "\n",
    "#On Test (predictSet)\n",
    "predictSet[, 'poutcome_success'] <- as.integer(predictSet$pdays == 'success')"
   ]
  },
  {
   "cell_type": "code",
   "execution_count": 53,
   "metadata": {},
   "outputs": [],
   "source": [
    "# On Train set\n",
    "train[, 'cons.price.idx_ge_mean'] <- as.integer(train$cons.price.idx >= mean(train$cons.price.idx))\n",
    "\n",
    "# On Train set\n",
    "test[, 'cons.price.idx_ge_mean'] <- as.integer(test$cons.price.idx >= mean(test$cons.price.idx))\n",
    "\n",
    "\n",
    "#On Test (predictSet)\n",
    "predictSet[, 'cons.price.idx_ge_mean'] <- as.integer(predictSet$cons.price.idx >= mean(train$cons.price.idx))\n"
   ]
  },
  {
   "cell_type": "code",
   "execution_count": 54,
   "metadata": {},
   "outputs": [],
   "source": [
    "# Add new variable on euribor to train and prediction set (holdout)\n",
    "# On Train set\n",
    "train[, 'euribor_ge_mean'] <- as.integer(train$euribor3m >= mean(train$euribor3m))\n",
    "\n",
    "# On Test set\n",
    "test[, 'euribor_ge_mean'] <- as.integer(test$euribor3m >= mean(test$euribor3m))\n",
    "\n",
    "\n",
    "# On Test (predictSet)\n",
    "predictSet[, 'euribor_ge_mean'] <- as.integer(predictSet$euribor3m >= mean(train$euribor3m))\n"
   ]
  },
  {
   "cell_type": "code",
   "execution_count": 55,
   "metadata": {},
   "outputs": [],
   "source": [
    "# Add new variable on number employed if ge to the mean on the train and prediction set (holdout)\n",
    "# On Train set\n",
    "train[, 'nr.employed'] <- as.integer(train$nr.employed >= mean(train$nr.employed))\n",
    "# On Test set\n",
    "test[, 'nr.employed'] <- as.integer(test$nr.employed >= mean(test$nr.employed))\n",
    "\n",
    "\n",
    "# On Test set\n",
    "predictSet[, 'nr.employed'] <- as.integer(predictSet$nr.employed >= mean(train$nr.employed))\n"
   ]
  },
  {
   "cell_type": "code",
   "execution_count": 56,
   "metadata": {},
   "outputs": [],
   "source": [
    "# Add new variable on campaign to train and prediction set (holdout)\n",
    "# On Train set\n",
    "train[, 'campaign_mostcommon'] <- as.integer(train$campaign == max(train$campaign))\n",
    "train[, 'campaign_leastcommon'] <- as.integer(train$campaign == min(train$campaign))\n",
    "\n",
    "# On Test set\n",
    "test[, 'campaign_mostcommon'] <- as.integer(test$campaign == max(test$campaign))\n",
    "test[, 'campaign_leastcommon'] <- as.integer(test$campaign == min(test$campaign))\n",
    "\n",
    "\n",
    "# On Test (predictSet)\n",
    "predictSet[, 'campaign_mostcommon'] <- as.integer(predictSet$campaign == max(train$campaign))\n",
    "predictSet[, 'campaign_leastcommon'] <- as.integer(predictSet$campaign == min(train$campaign))\n"
   ]
  },
  {
   "cell_type": "code",
   "execution_count": 57,
   "metadata": {},
   "outputs": [
    {
     "data": {
      "text/html": [
       "<table>\n",
       "<thead><tr><th></th><th scope=col>client_id</th><th scope=col>age</th><th scope=col>job</th><th scope=col>marital</th><th scope=col>education</th><th scope=col>default</th><th scope=col>housing</th><th scope=col>loan</th><th scope=col>contact</th><th scope=col>month</th><th scope=col>...</th><th scope=col>month_autumn</th><th scope=col>month_winter</th><th scope=col>age_ge_mean</th><th scope=col>edu_ge_highschool</th><th scope=col>edu_le_basic</th><th scope=col>poutcome_success</th><th scope=col>cons.price.idx_ge_mean</th><th scope=col>euribor_ge_mean</th><th scope=col>campaign_mostcommon</th><th scope=col>campaign_leastcommon</th></tr></thead>\n",
       "<tbody>\n",
       "\t<tr><th scope=row>1</th><td>2                </td><td>29               </td><td>housemaid        </td><td>single           </td><td>high.school      </td><td>no               </td><td>no               </td><td>no               </td><td>telephone        </td><td>may              </td><td>...              </td><td>0                </td><td>0                </td><td>0                </td><td>0                </td><td>0                </td><td>0                </td><td>1                </td><td>1                </td><td>0                </td><td>0                </td></tr>\n",
       "\t<tr><th scope=row>2</th><td>3                </td><td>39               </td><td>unemployed       </td><td>married          </td><td>basic.9y         </td><td>unknown          </td><td>yes              </td><td>no               </td><td>telephone        </td><td>jun              </td><td>...              </td><td>0                </td><td>0                </td><td>0                </td><td>0                </td><td>0                </td><td>0                </td><td>1                </td><td>1                </td><td>0                </td><td>0                </td></tr>\n",
       "\t<tr><th scope=row>4</th><td>5                </td><td>32               </td><td>self-employed    </td><td>single           </td><td>university.degree</td><td>no               </td><td>yes              </td><td>no               </td><td>cellular         </td><td>may              </td><td>...              </td><td>0                </td><td>0                </td><td>0                </td><td>1                </td><td>0                </td><td>0                </td><td>0                </td><td>0                </td><td>0                </td><td>0                </td></tr>\n",
       "\t<tr><th scope=row>5</th><td>6                </td><td>29               </td><td>admin.           </td><td>single           </td><td>high.school      </td><td>unknown          </td><td>yes              </td><td>no               </td><td>cellular         </td><td>jul              </td><td>...              </td><td>0                </td><td>0                </td><td>0                </td><td>0                </td><td>0                </td><td>0                </td><td>1                </td><td>1                </td><td>0                </td><td>0                </td></tr>\n",
       "\t<tr><th scope=row>6</th><td>7                </td><td>51               </td><td>self-employed    </td><td>married          </td><td>university.degree</td><td>unknown          </td><td>yes              </td><td>no               </td><td>telephone        </td><td>jun              </td><td>...              </td><td>0                </td><td>0                </td><td>1                </td><td>1                </td><td>0                </td><td>0                </td><td>1                </td><td>1                </td><td>0                </td><td>1                </td></tr>\n",
       "\t<tr><th scope=row>8</th><td>9                </td><td>52               </td><td>services         </td><td>married          </td><td>high.school      </td><td>no               </td><td>yes              </td><td>no               </td><td>cellular         </td><td>nov              </td><td>...              </td><td>1                </td><td>0                </td><td>1                </td><td>0                </td><td>0                </td><td>0                </td><td>0                </td><td>1                </td><td>0                </td><td>1                </td></tr>\n",
       "</tbody>\n",
       "</table>\n"
      ],
      "text/latex": [
       "\\begin{tabular}{r|llllllllllllllllllllllllllllllllll}\n",
       "  & client\\_id & age & job & marital & education & default & housing & loan & contact & month & ... & month\\_autumn & month\\_winter & age\\_ge\\_mean & edu\\_ge\\_highschool & edu\\_le\\_basic & poutcome\\_success & cons.price.idx\\_ge\\_mean & euribor\\_ge\\_mean & campaign\\_mostcommon & campaign\\_leastcommon\\\\\n",
       "\\hline\n",
       "\t1 & 2                 & 29                & housemaid         & single            & high.school       & no                & no                & no                & telephone         & may               & ...               & 0                 & 0                 & 0                 & 0                 & 0                 & 0                 & 1                 & 1                 & 0                 & 0                \\\\\n",
       "\t2 & 3                 & 39                & unemployed        & married           & basic.9y          & unknown           & yes               & no                & telephone         & jun               & ...               & 0                 & 0                 & 0                 & 0                 & 0                 & 0                 & 1                 & 1                 & 0                 & 0                \\\\\n",
       "\t4 & 5                 & 32                & self-employed     & single            & university.degree & no                & yes               & no                & cellular          & may               & ...               & 0                 & 0                 & 0                 & 1                 & 0                 & 0                 & 0                 & 0                 & 0                 & 0                \\\\\n",
       "\t5 & 6                 & 29                & admin.            & single            & high.school       & unknown           & yes               & no                & cellular          & jul               & ...               & 0                 & 0                 & 0                 & 0                 & 0                 & 0                 & 1                 & 1                 & 0                 & 0                \\\\\n",
       "\t6 & 7                 & 51                & self-employed     & married           & university.degree & unknown           & yes               & no                & telephone         & jun               & ...               & 0                 & 0                 & 1                 & 1                 & 0                 & 0                 & 1                 & 1                 & 0                 & 1                \\\\\n",
       "\t8 & 9                 & 52                & services          & married           & high.school       & no                & yes               & no                & cellular          & nov               & ...               & 1                 & 0                 & 1                 & 0                 & 0                 & 0                 & 0                 & 1                 & 0                 & 1                \\\\\n",
       "\\end{tabular}\n"
      ],
      "text/markdown": [
       "\n",
       "| <!--/--> | client_id | age | job | marital | education | default | housing | loan | contact | month | ... | month_autumn | month_winter | age_ge_mean | edu_ge_highschool | edu_le_basic | poutcome_success | cons.price.idx_ge_mean | euribor_ge_mean | campaign_mostcommon | campaign_leastcommon |\n",
       "|---|---|---|---|---|---|---|---|---|---|---|---|---|---|---|---|---|---|---|---|---|---|\n",
       "| 1 | 2                 | 29                | housemaid         | single            | high.school       | no                | no                | no                | telephone         | may               | ...               | 0                 | 0                 | 0                 | 0                 | 0                 | 0                 | 1                 | 1                 | 0                 | 0                 |\n",
       "| 2 | 3                 | 39                | unemployed        | married           | basic.9y          | unknown           | yes               | no                | telephone         | jun               | ...               | 0                 | 0                 | 0                 | 0                 | 0                 | 0                 | 1                 | 1                 | 0                 | 0                 |\n",
       "| 4 | 5                 | 32                | self-employed     | single            | university.degree | no                | yes               | no                | cellular          | may               | ...               | 0                 | 0                 | 0                 | 1                 | 0                 | 0                 | 0                 | 0                 | 0                 | 0                 |\n",
       "| 5 | 6                 | 29                | admin.            | single            | high.school       | unknown           | yes               | no                | cellular          | jul               | ...               | 0                 | 0                 | 0                 | 0                 | 0                 | 0                 | 1                 | 1                 | 0                 | 0                 |\n",
       "| 6 | 7                 | 51                | self-employed     | married           | university.degree | unknown           | yes               | no                | telephone         | jun               | ...               | 0                 | 0                 | 1                 | 1                 | 0                 | 0                 | 1                 | 1                 | 0                 | 1                 |\n",
       "| 8 | 9                 | 52                | services          | married           | high.school       | no                | yes               | no                | cellular          | nov               | ...               | 1                 | 0                 | 1                 | 0                 | 0                 | 0                 | 0                 | 1                 | 0                 | 1                 |\n",
       "\n"
      ],
      "text/plain": [
       "  client_id age job           marital education         default housing loan\n",
       "1 2         29  housemaid     single  high.school       no      no      no  \n",
       "2 3         39  unemployed    married basic.9y          unknown yes     no  \n",
       "4 5         32  self-employed single  university.degree no      yes     no  \n",
       "5 6         29  admin.        single  high.school       unknown yes     no  \n",
       "6 7         51  self-employed married university.degree unknown yes     no  \n",
       "8 9         52  services      married high.school       no      yes     no  \n",
       "  contact   month ... month_autumn month_winter age_ge_mean edu_ge_highschool\n",
       "1 telephone may   ... 0            0            0           0                \n",
       "2 telephone jun   ... 0            0            0           0                \n",
       "4 cellular  may   ... 0            0            0           1                \n",
       "5 cellular  jul   ... 0            0            0           0                \n",
       "6 telephone jun   ... 0            0            1           1                \n",
       "8 cellular  nov   ... 1            0            1           0                \n",
       "  edu_le_basic poutcome_success cons.price.idx_ge_mean euribor_ge_mean\n",
       "1 0            0                1                      1              \n",
       "2 0            0                1                      1              \n",
       "4 0            0                0                      0              \n",
       "5 0            0                1                      1              \n",
       "6 0            0                1                      1              \n",
       "8 0            0                0                      1              \n",
       "  campaign_mostcommon campaign_leastcommon\n",
       "1 0                   0                   \n",
       "2 0                   0                   \n",
       "4 0                   0                   \n",
       "5 0                   0                   \n",
       "6 0                   1                   \n",
       "8 0                   1                   "
      ]
     },
     "metadata": {},
     "output_type": "display_data"
    }
   ],
   "source": [
    "head(train)"
   ]
  },
  {
   "cell_type": "code",
   "execution_count": 58,
   "metadata": {},
   "outputs": [
    {
     "data": {
      "text/html": [
       "<ol>\n",
       "\t<li>'job'</li>\n",
       "\t<li><table>\n",
       "<thead><tr><th></th><th scope=col>Group.2</th><th scope=col>Group.1</th><th scope=col>woe</th><th scope=col>iv.total.final</th><th scope=col>1</th><th scope=col>0</th><th scope=col>col.perc.a</th><th scope=col>col.perc.b</th><th scope=col>iv.bins</th></tr></thead>\n",
       "<tbody>\n",
       "\t<tr><th scope=row>11</th><td>services + blue-collar                             </td><td>blue-collar                                        </td><td>-42.843909                                         </td><td>0.1435264                                          </td><td>133                                                </td><td>1497                                               </td><td>0.2111111                                          </td><td>0.3240260                                          </td><td>0.0483771413                                       </td></tr>\n",
       "\t<tr><th scope=row>12</th><td>services + blue-collar                             </td><td>services                                           </td><td>-42.843909                                         </td><td>0.1435264                                          </td><td>133                                                </td><td>1497                                               </td><td>0.2111111                                          </td><td>0.3240260                                          </td><td>0.0483771413                                       </td></tr>\n",
       "\t<tr><th scope=row>1</th><td>admin. + management + misc. level neg. + technician</td><td>admin.                                             </td><td> -2.247286                                         </td><td>0.1435264                                          </td><td>348                                                </td><td>2610                                               </td><td>0.5523810                                          </td><td>0.5649351                                          </td><td>0.0002821268                                       </td></tr>\n",
       "\t<tr><th scope=row>2</th><td>admin. + management + misc. level neg. + technician</td><td>entrepreneur                                       </td><td> -2.247286                                         </td><td>0.1435264                                          </td><td>348                                                </td><td>2610                                               </td><td>0.5523810                                          </td><td>0.5649351                                          </td><td>0.0002821268                                       </td></tr>\n",
       "\t<tr><th scope=row>3</th><td>admin. + management + misc. level neg. + technician</td><td>housemaid                                          </td><td> -2.247286                                         </td><td>0.1435264                                          </td><td>348                                                </td><td>2610                                               </td><td>0.5523810                                          </td><td>0.5649351                                          </td><td>0.0002821268                                       </td></tr>\n",
       "\t<tr><th scope=row>4</th><td>admin. + management + misc. level neg. + technician</td><td>management                                         </td><td> -2.247286                                         </td><td>0.1435264                                          </td><td>348                                                </td><td>2610                                               </td><td>0.5523810                                          </td><td>0.5649351                                          </td><td>0.0002821268                                       </td></tr>\n",
       "\t<tr><th scope=row>5</th><td>admin. + management + misc. level neg. + technician</td><td>technician                                         </td><td> -2.247286                                         </td><td>0.1435264                                          </td><td>348                                                </td><td>2610                                               </td><td>0.5523810                                          </td><td>0.5649351                                          </td><td>0.0002821268                                       </td></tr>\n",
       "\t<tr><th scope=row>6</th><td>admin. + management + misc. level neg. + technician</td><td>unknown                                            </td><td> -2.247286                                         </td><td>0.1435264                                          </td><td>348                                                </td><td>2610                                               </td><td>0.5523810                                          </td><td>0.5649351                                          </td><td>0.0002821268                                       </td></tr>\n",
       "\t<tr><th scope=row>7</th><td>misc. level pos.                                   </td><td>retired                                            </td><td> 75.610063                                         </td><td>0.1435264                                          </td><td>149                                                </td><td> 513                                               </td><td>0.2365079                                          </td><td>0.1110390                                          </td><td>0.0948671708                                       </td></tr>\n",
       "\t<tr><th scope=row>8</th><td>misc. level pos.                                   </td><td>self-employed                                      </td><td> 75.610063                                         </td><td>0.1435264                                          </td><td>149                                                </td><td> 513                                               </td><td>0.2365079                                          </td><td>0.1110390                                          </td><td>0.0948671708                                       </td></tr>\n",
       "\t<tr><th scope=row>9</th><td>misc. level pos.                                   </td><td>student                                            </td><td> 75.610063                                         </td><td>0.1435264                                          </td><td>149                                                </td><td> 513                                               </td><td>0.2365079                                          </td><td>0.1110390                                          </td><td>0.0948671708                                       </td></tr>\n",
       "\t<tr><th scope=row>10</th><td>misc. level pos.                                   </td><td>unemployed                                         </td><td> 75.610063                                         </td><td>0.1435264                                          </td><td>149                                                </td><td> 513                                               </td><td>0.2365079                                          </td><td>0.1110390                                          </td><td>0.0948671708                                       </td></tr>\n",
       "</tbody>\n",
       "</table>\n",
       "</li>\n",
       "\t<li><strong>iv.total.final:</strong> 0.143526438875268</li>\n",
       "</ol>\n"
      ],
      "text/latex": [
       "\\begin{enumerate}\n",
       "\\item 'job'\n",
       "\\item \\begin{tabular}{r|lllllllll}\n",
       "  & Group.2 & Group.1 & woe & iv.total.final & 1 & 0 & col.perc.a & col.perc.b & iv.bins\\\\\n",
       "\\hline\n",
       "\t11 & services + blue-collar                              & blue-collar                                         & -42.843909                                          & 0.1435264                                           & 133                                                 & 1497                                                & 0.2111111                                           & 0.3240260                                           & 0.0483771413                                       \\\\\n",
       "\t12 & services + blue-collar                              & services                                            & -42.843909                                          & 0.1435264                                           & 133                                                 & 1497                                                & 0.2111111                                           & 0.3240260                                           & 0.0483771413                                       \\\\\n",
       "\t1 & admin. + management + misc. level neg. + technician & admin.                                              &  -2.247286                                          & 0.1435264                                           & 348                                                 & 2610                                                & 0.5523810                                           & 0.5649351                                           & 0.0002821268                                       \\\\\n",
       "\t2 & admin. + management + misc. level neg. + technician & entrepreneur                                        &  -2.247286                                          & 0.1435264                                           & 348                                                 & 2610                                                & 0.5523810                                           & 0.5649351                                           & 0.0002821268                                       \\\\\n",
       "\t3 & admin. + management + misc. level neg. + technician & housemaid                                           &  -2.247286                                          & 0.1435264                                           & 348                                                 & 2610                                                & 0.5523810                                           & 0.5649351                                           & 0.0002821268                                       \\\\\n",
       "\t4 & admin. + management + misc. level neg. + technician & management                                          &  -2.247286                                          & 0.1435264                                           & 348                                                 & 2610                                                & 0.5523810                                           & 0.5649351                                           & 0.0002821268                                       \\\\\n",
       "\t5 & admin. + management + misc. level neg. + technician & technician                                          &  -2.247286                                          & 0.1435264                                           & 348                                                 & 2610                                                & 0.5523810                                           & 0.5649351                                           & 0.0002821268                                       \\\\\n",
       "\t6 & admin. + management + misc. level neg. + technician & unknown                                             &  -2.247286                                          & 0.1435264                                           & 348                                                 & 2610                                                & 0.5523810                                           & 0.5649351                                           & 0.0002821268                                       \\\\\n",
       "\t7 & misc. level pos.                                    & retired                                             &  75.610063                                          & 0.1435264                                           & 149                                                 &  513                                                & 0.2365079                                           & 0.1110390                                           & 0.0948671708                                       \\\\\n",
       "\t8 & misc. level pos.                                    & self-employed                                       &  75.610063                                          & 0.1435264                                           & 149                                                 &  513                                                & 0.2365079                                           & 0.1110390                                           & 0.0948671708                                       \\\\\n",
       "\t9 & misc. level pos.                                    & student                                             &  75.610063                                          & 0.1435264                                           & 149                                                 &  513                                                & 0.2365079                                           & 0.1110390                                           & 0.0948671708                                       \\\\\n",
       "\t10 & misc. level pos.                                    & unemployed                                          &  75.610063                                          & 0.1435264                                           & 149                                                 &  513                                                & 0.2365079                                           & 0.1110390                                           & 0.0948671708                                       \\\\\n",
       "\\end{tabular}\n",
       "\n",
       "\\item \\textbf{iv.total.final:} 0.143526438875268\n",
       "\\end{enumerate}\n"
      ],
      "text/markdown": [
       "1. 'job'\n",
       "2. \n",
       "| <!--/--> | Group.2 | Group.1 | woe | iv.total.final | 1 | 0 | col.perc.a | col.perc.b | iv.bins |\n",
       "|---|---|---|---|---|---|---|---|---|---|\n",
       "| 11 | services + blue-collar                              | blue-collar                                         | -42.843909                                          | 0.1435264                                           | 133                                                 | 1497                                                | 0.2111111                                           | 0.3240260                                           | 0.0483771413                                        |\n",
       "| 12 | services + blue-collar                              | services                                            | -42.843909                                          | 0.1435264                                           | 133                                                 | 1497                                                | 0.2111111                                           | 0.3240260                                           | 0.0483771413                                        |\n",
       "| 1 | admin. + management + misc. level neg. + technician | admin.                                              |  -2.247286                                          | 0.1435264                                           | 348                                                 | 2610                                                | 0.5523810                                           | 0.5649351                                           | 0.0002821268                                        |\n",
       "| 2 | admin. + management + misc. level neg. + technician | entrepreneur                                        |  -2.247286                                          | 0.1435264                                           | 348                                                 | 2610                                                | 0.5523810                                           | 0.5649351                                           | 0.0002821268                                        |\n",
       "| 3 | admin. + management + misc. level neg. + technician | housemaid                                           |  -2.247286                                          | 0.1435264                                           | 348                                                 | 2610                                                | 0.5523810                                           | 0.5649351                                           | 0.0002821268                                        |\n",
       "| 4 | admin. + management + misc. level neg. + technician | management                                          |  -2.247286                                          | 0.1435264                                           | 348                                                 | 2610                                                | 0.5523810                                           | 0.5649351                                           | 0.0002821268                                        |\n",
       "| 5 | admin. + management + misc. level neg. + technician | technician                                          |  -2.247286                                          | 0.1435264                                           | 348                                                 | 2610                                                | 0.5523810                                           | 0.5649351                                           | 0.0002821268                                        |\n",
       "| 6 | admin. + management + misc. level neg. + technician | unknown                                             |  -2.247286                                          | 0.1435264                                           | 348                                                 | 2610                                                | 0.5523810                                           | 0.5649351                                           | 0.0002821268                                        |\n",
       "| 7 | misc. level pos.                                    | retired                                             |  75.610063                                          | 0.1435264                                           | 149                                                 |  513                                                | 0.2365079                                           | 0.1110390                                           | 0.0948671708                                        |\n",
       "| 8 | misc. level pos.                                    | self-employed                                       |  75.610063                                          | 0.1435264                                           | 149                                                 |  513                                                | 0.2365079                                           | 0.1110390                                           | 0.0948671708                                        |\n",
       "| 9 | misc. level pos.                                    | student                                             |  75.610063                                          | 0.1435264                                           | 149                                                 |  513                                                | 0.2365079                                           | 0.1110390                                           | 0.0948671708                                        |\n",
       "| 10 | misc. level pos.                                    | unemployed                                          |  75.610063                                          | 0.1435264                                           | 149                                                 |  513                                                | 0.2365079                                           | 0.1110390                                           | 0.0948671708                                        |\n",
       "\n",
       "\n",
       "3. **iv.total.final:** 0.143526438875268\n",
       "\n",
       "\n"
      ],
      "text/plain": [
       "[[1]]\n",
       "[1] \"job\"\n",
       "\n",
       "[[2]]\n",
       "                                               Group.2       Group.1        woe\n",
       "11                              services + blue-collar   blue-collar -42.843909\n",
       "12                              services + blue-collar      services -42.843909\n",
       "1  admin. + management + misc. level neg. + technician        admin.  -2.247286\n",
       "2  admin. + management + misc. level neg. + technician  entrepreneur  -2.247286\n",
       "3  admin. + management + misc. level neg. + technician     housemaid  -2.247286\n",
       "4  admin. + management + misc. level neg. + technician    management  -2.247286\n",
       "5  admin. + management + misc. level neg. + technician    technician  -2.247286\n",
       "6  admin. + management + misc. level neg. + technician       unknown  -2.247286\n",
       "7                                     misc. level pos.       retired  75.610063\n",
       "8                                     misc. level pos. self-employed  75.610063\n",
       "9                                     misc. level pos.       student  75.610063\n",
       "10                                    misc. level pos.    unemployed  75.610063\n",
       "   iv.total.final   1    0 col.perc.a col.perc.b      iv.bins\n",
       "11      0.1435264 133 1497  0.2111111  0.3240260 0.0483771413\n",
       "12      0.1435264 133 1497  0.2111111  0.3240260 0.0483771413\n",
       "1       0.1435264 348 2610  0.5523810  0.5649351 0.0002821268\n",
       "2       0.1435264 348 2610  0.5523810  0.5649351 0.0002821268\n",
       "3       0.1435264 348 2610  0.5523810  0.5649351 0.0002821268\n",
       "4       0.1435264 348 2610  0.5523810  0.5649351 0.0002821268\n",
       "5       0.1435264 348 2610  0.5523810  0.5649351 0.0002821268\n",
       "6       0.1435264 348 2610  0.5523810  0.5649351 0.0002821268\n",
       "7       0.1435264 149  513  0.2365079  0.1110390 0.0948671708\n",
       "8       0.1435264 149  513  0.2365079  0.1110390 0.0948671708\n",
       "9       0.1435264 149  513  0.2365079  0.1110390 0.0948671708\n",
       "10      0.1435264 149  513  0.2365079  0.1110390 0.0948671708\n",
       "\n",
       "[[3]]\n",
       "iv.total.final \n",
       "     0.1435264 \n"
      ]
     },
     "metadata": {},
     "output_type": "display_data"
    }
   ],
   "source": [
    "#binning on job \n",
    "binning_cat <- woe.binning(train, 'subscribe', 'job')\n",
    "binning_cat"
   ]
  },
  {
   "cell_type": "code",
   "execution_count": 59,
   "metadata": {},
   "outputs": [
    {
     "data": {
      "text/html": [
       "<table>\n",
       "<thead><tr><th></th><th scope=col>job</th><th scope=col>job.binned</th><th scope=col>woe.job.binned</th></tr></thead>\n",
       "<tbody>\n",
       "\t<tr><th scope=row>1</th><td>housemaid                                          </td><td>admin. + management + misc. level neg. + technician</td><td> -2.247286                                         </td></tr>\n",
       "\t<tr><th scope=row>2</th><td>unemployed                                         </td><td>misc. level pos.                                   </td><td> 75.610063                                         </td></tr>\n",
       "\t<tr><th scope=row>4</th><td>self-employed                                      </td><td>misc. level pos.                                   </td><td> 75.610063                                         </td></tr>\n",
       "\t<tr><th scope=row>5</th><td>admin.                                             </td><td>admin. + management + misc. level neg. + technician</td><td> -2.247286                                         </td></tr>\n",
       "\t<tr><th scope=row>6</th><td>self-employed                                      </td><td>misc. level pos.                                   </td><td> 75.610063                                         </td></tr>\n",
       "\t<tr><th scope=row>8</th><td>services                                           </td><td>services + blue-collar                             </td><td>-42.843909                                         </td></tr>\n",
       "</tbody>\n",
       "</table>\n"
      ],
      "text/latex": [
       "\\begin{tabular}{r|lll}\n",
       "  & job & job.binned & woe.job.binned\\\\\n",
       "\\hline\n",
       "\t1 & housemaid                                           & admin. + management + misc. level neg. + technician &  -2.247286                                         \\\\\n",
       "\t2 & unemployed                                          & misc. level pos.                                    &  75.610063                                         \\\\\n",
       "\t4 & self-employed                                       & misc. level pos.                                    &  75.610063                                         \\\\\n",
       "\t5 & admin.                                              & admin. + management + misc. level neg. + technician &  -2.247286                                         \\\\\n",
       "\t6 & self-employed                                       & misc. level pos.                                    &  75.610063                                         \\\\\n",
       "\t8 & services                                            & services + blue-collar                              & -42.843909                                         \\\\\n",
       "\\end{tabular}\n"
      ],
      "text/markdown": [
       "\n",
       "| <!--/--> | job | job.binned | woe.job.binned |\n",
       "|---|---|---|---|\n",
       "| 1 | housemaid                                           | admin. + management + misc. level neg. + technician |  -2.247286                                          |\n",
       "| 2 | unemployed                                          | misc. level pos.                                    |  75.610063                                          |\n",
       "| 4 | self-employed                                       | misc. level pos.                                    |  75.610063                                          |\n",
       "| 5 | admin.                                              | admin. + management + misc. level neg. + technician |  -2.247286                                          |\n",
       "| 6 | self-employed                                       | misc. level pos.                                    |  75.610063                                          |\n",
       "| 8 | services                                            | services + blue-collar                              | -42.843909                                          |\n",
       "\n"
      ],
      "text/plain": [
       "  job           job.binned                                         \n",
       "1 housemaid     admin. + management + misc. level neg. + technician\n",
       "2 unemployed    misc. level pos.                                   \n",
       "4 self-employed misc. level pos.                                   \n",
       "5 admin.        admin. + management + misc. level neg. + technician\n",
       "6 self-employed misc. level pos.                                   \n",
       "8 services      services + blue-collar                             \n",
       "  woe.job.binned\n",
       "1  -2.247286    \n",
       "2  75.610063    \n",
       "4  75.610063    \n",
       "5  -2.247286    \n",
       "6  75.610063    \n",
       "8 -42.843909    "
      ]
     },
     "metadata": {},
     "output_type": "display_data"
    }
   ],
   "source": [
    "# Apply the binning to the train data\n",
    "\n",
    "tmp <- woe.binning.deploy(train, binning_cat, add.woe.or.dum.var='woe')\n",
    "head(tmp[, c('job', 'job.binned', 'woe.job.binned')])"
   ]
  },
  {
   "cell_type": "code",
   "execution_count": 60,
   "metadata": {},
   "outputs": [
    {
     "data": {
      "text/html": [
       "<ol>\n",
       "\t<li>'education'</li>\n",
       "\t<li><table>\n",
       "<thead><tr><th></th><th scope=col>Group.2</th><th scope=col>Group.1</th><th scope=col>woe</th><th scope=col>iv.total.final</th><th scope=col>1</th><th scope=col>0</th><th scope=col>col.perc.a</th><th scope=col>col.perc.b</th><th scope=col>iv.bins</th></tr></thead>\n",
       "<tbody>\n",
       "\t<tr><th scope=row>4</th><td>basic.9y + basic.6y                         </td><td>basic.6y                                    </td><td>-35.146021                                  </td><td>0.04473058                                  </td><td>116                                         </td><td>1239                                        </td><td>0.1411192                                   </td><td>0.2005503                                   </td><td>0.020887674                                 </td></tr>\n",
       "\t<tr><th scope=row>5</th><td>basic.9y + basic.6y                         </td><td>basic.9y                                    </td><td>-35.146021                                  </td><td>0.04473058                                  </td><td>116                                         </td><td>1239                                        </td><td>0.1411192                                   </td><td>0.2005503                                   </td><td>0.020887674                                 </td></tr>\n",
       "\t<tr><th scope=row>1</th><td>basic.4y + professional.course + high.school</td><td>basic.4y                                    </td><td> -6.869731                                  </td><td>0.04473058                                  </td><td>358                                         </td><td>2882                                        </td><td>0.4355231                                   </td><td>0.4664940                                   </td><td>0.002127617                                 </td></tr>\n",
       "\t<tr><th scope=row>2</th><td>basic.4y + professional.course + high.school</td><td>high.school                                 </td><td> -6.869731                                  </td><td>0.04473058                                  </td><td>358                                         </td><td>2882                                        </td><td>0.4355231                                   </td><td>0.4664940                                   </td><td>0.002127617                                 </td></tr>\n",
       "\t<tr><th scope=row>3</th><td>basic.4y + professional.course + high.school</td><td>professional.course                         </td><td> -6.869731                                  </td><td>0.04473058                                  </td><td>358                                         </td><td>2882                                        </td><td>0.4355231                                   </td><td>0.4664940                                   </td><td>0.002127617                                 </td></tr>\n",
       "\t<tr><th scope=row>6</th><td>university.degree + misc. level pos.        </td><td>illiterate                                  </td><td> 24.020807                                  </td><td>0.04473058                                  </td><td>348                                         </td><td>2057                                        </td><td>0.4233577                                   </td><td>0.3329556                                   </td><td>0.021715293                                 </td></tr>\n",
       "\t<tr><th scope=row>7</th><td>university.degree + misc. level pos.        </td><td>university.degree                           </td><td> 24.020807                                  </td><td>0.04473058                                  </td><td>348                                         </td><td>2057                                        </td><td>0.4233577                                   </td><td>0.3329556                                   </td><td>0.021715293                                 </td></tr>\n",
       "\t<tr><th scope=row>8</th><td>university.degree + misc. level pos.        </td><td>unknown                                     </td><td> 24.020807                                  </td><td>0.04473058                                  </td><td>348                                         </td><td>2057                                        </td><td>0.4233577                                   </td><td>0.3329556                                   </td><td>0.021715293                                 </td></tr>\n",
       "</tbody>\n",
       "</table>\n",
       "</li>\n",
       "\t<li><strong>iv.total.final:</strong> 0.0447305843101804</li>\n",
       "</ol>\n"
      ],
      "text/latex": [
       "\\begin{enumerate}\n",
       "\\item 'education'\n",
       "\\item \\begin{tabular}{r|lllllllll}\n",
       "  & Group.2 & Group.1 & woe & iv.total.final & 1 & 0 & col.perc.a & col.perc.b & iv.bins\\\\\n",
       "\\hline\n",
       "\t4 & basic.9y + basic.6y                          & basic.6y                                     & -35.146021                                   & 0.04473058                                   & 116                                          & 1239                                         & 0.1411192                                    & 0.2005503                                    & 0.020887674                                 \\\\\n",
       "\t5 & basic.9y + basic.6y                          & basic.9y                                     & -35.146021                                   & 0.04473058                                   & 116                                          & 1239                                         & 0.1411192                                    & 0.2005503                                    & 0.020887674                                 \\\\\n",
       "\t1 & basic.4y + professional.course + high.school & basic.4y                                     &  -6.869731                                   & 0.04473058                                   & 358                                          & 2882                                         & 0.4355231                                    & 0.4664940                                    & 0.002127617                                 \\\\\n",
       "\t2 & basic.4y + professional.course + high.school & high.school                                  &  -6.869731                                   & 0.04473058                                   & 358                                          & 2882                                         & 0.4355231                                    & 0.4664940                                    & 0.002127617                                 \\\\\n",
       "\t3 & basic.4y + professional.course + high.school & professional.course                          &  -6.869731                                   & 0.04473058                                   & 358                                          & 2882                                         & 0.4355231                                    & 0.4664940                                    & 0.002127617                                 \\\\\n",
       "\t6 & university.degree + misc. level pos.         & illiterate                                   &  24.020807                                   & 0.04473058                                   & 348                                          & 2057                                         & 0.4233577                                    & 0.3329556                                    & 0.021715293                                 \\\\\n",
       "\t7 & university.degree + misc. level pos.         & university.degree                            &  24.020807                                   & 0.04473058                                   & 348                                          & 2057                                         & 0.4233577                                    & 0.3329556                                    & 0.021715293                                 \\\\\n",
       "\t8 & university.degree + misc. level pos.         & unknown                                      &  24.020807                                   & 0.04473058                                   & 348                                          & 2057                                         & 0.4233577                                    & 0.3329556                                    & 0.021715293                                 \\\\\n",
       "\\end{tabular}\n",
       "\n",
       "\\item \\textbf{iv.total.final:} 0.0447305843101804\n",
       "\\end{enumerate}\n"
      ],
      "text/markdown": [
       "1. 'education'\n",
       "2. \n",
       "| <!--/--> | Group.2 | Group.1 | woe | iv.total.final | 1 | 0 | col.perc.a | col.perc.b | iv.bins |\n",
       "|---|---|---|---|---|---|---|---|---|---|\n",
       "| 4 | basic.9y + basic.6y                          | basic.6y                                     | -35.146021                                   | 0.04473058                                   | 116                                          | 1239                                         | 0.1411192                                    | 0.2005503                                    | 0.020887674                                  |\n",
       "| 5 | basic.9y + basic.6y                          | basic.9y                                     | -35.146021                                   | 0.04473058                                   | 116                                          | 1239                                         | 0.1411192                                    | 0.2005503                                    | 0.020887674                                  |\n",
       "| 1 | basic.4y + professional.course + high.school | basic.4y                                     |  -6.869731                                   | 0.04473058                                   | 358                                          | 2882                                         | 0.4355231                                    | 0.4664940                                    | 0.002127617                                  |\n",
       "| 2 | basic.4y + professional.course + high.school | high.school                                  |  -6.869731                                   | 0.04473058                                   | 358                                          | 2882                                         | 0.4355231                                    | 0.4664940                                    | 0.002127617                                  |\n",
       "| 3 | basic.4y + professional.course + high.school | professional.course                          |  -6.869731                                   | 0.04473058                                   | 358                                          | 2882                                         | 0.4355231                                    | 0.4664940                                    | 0.002127617                                  |\n",
       "| 6 | university.degree + misc. level pos.         | illiterate                                   |  24.020807                                   | 0.04473058                                   | 348                                          | 2057                                         | 0.4233577                                    | 0.3329556                                    | 0.021715293                                  |\n",
       "| 7 | university.degree + misc. level pos.         | university.degree                            |  24.020807                                   | 0.04473058                                   | 348                                          | 2057                                         | 0.4233577                                    | 0.3329556                                    | 0.021715293                                  |\n",
       "| 8 | university.degree + misc. level pos.         | unknown                                      |  24.020807                                   | 0.04473058                                   | 348                                          | 2057                                         | 0.4233577                                    | 0.3329556                                    | 0.021715293                                  |\n",
       "\n",
       "\n",
       "3. **iv.total.final:** 0.0447305843101804\n",
       "\n",
       "\n"
      ],
      "text/plain": [
       "[[1]]\n",
       "[1] \"education\"\n",
       "\n",
       "[[2]]\n",
       "                                       Group.2             Group.1        woe\n",
       "4                          basic.9y + basic.6y            basic.6y -35.146021\n",
       "5                          basic.9y + basic.6y            basic.9y -35.146021\n",
       "1 basic.4y + professional.course + high.school            basic.4y  -6.869731\n",
       "2 basic.4y + professional.course + high.school         high.school  -6.869731\n",
       "3 basic.4y + professional.course + high.school professional.course  -6.869731\n",
       "6         university.degree + misc. level pos.          illiterate  24.020807\n",
       "7         university.degree + misc. level pos.   university.degree  24.020807\n",
       "8         university.degree + misc. level pos.             unknown  24.020807\n",
       "  iv.total.final   1    0 col.perc.a col.perc.b     iv.bins\n",
       "4     0.04473058 116 1239  0.1411192  0.2005503 0.020887674\n",
       "5     0.04473058 116 1239  0.1411192  0.2005503 0.020887674\n",
       "1     0.04473058 358 2882  0.4355231  0.4664940 0.002127617\n",
       "2     0.04473058 358 2882  0.4355231  0.4664940 0.002127617\n",
       "3     0.04473058 358 2882  0.4355231  0.4664940 0.002127617\n",
       "6     0.04473058 348 2057  0.4233577  0.3329556 0.021715293\n",
       "7     0.04473058 348 2057  0.4233577  0.3329556 0.021715293\n",
       "8     0.04473058 348 2057  0.4233577  0.3329556 0.021715293\n",
       "\n",
       "[[3]]\n",
       "iv.total.final \n",
       "    0.04473058 \n"
      ]
     },
     "metadata": {},
     "output_type": "display_data"
    }
   ],
   "source": [
    "# Binning on education\n",
    "binning_ed <- woe.binning(trainSet, 'subscribe', 'education')\n",
    "binning_ed"
   ]
  },
  {
   "cell_type": "code",
   "execution_count": 61,
   "metadata": {},
   "outputs": [
    {
     "data": {
      "text/html": [
       "<table>\n",
       "<thead><tr><th></th><th scope=col>education</th><th scope=col>education.binned</th><th scope=col>woe.education.binned</th></tr></thead>\n",
       "<tbody>\n",
       "\t<tr><th scope=row>1</th><td>high.school                                 </td><td>basic.4y + professional.course + high.school</td><td> -6.869731                                  </td></tr>\n",
       "\t<tr><th scope=row>2</th><td>basic.9y                                    </td><td>basic.9y + basic.6y                         </td><td>-35.146021                                  </td></tr>\n",
       "\t<tr><th scope=row>4</th><td>university.degree                           </td><td>university.degree + misc. level pos.        </td><td> 24.020807                                  </td></tr>\n",
       "\t<tr><th scope=row>5</th><td>high.school                                 </td><td>basic.4y + professional.course + high.school</td><td> -6.869731                                  </td></tr>\n",
       "\t<tr><th scope=row>6</th><td>university.degree                           </td><td>university.degree + misc. level pos.        </td><td> 24.020807                                  </td></tr>\n",
       "\t<tr><th scope=row>8</th><td>high.school                                 </td><td>basic.4y + professional.course + high.school</td><td> -6.869731                                  </td></tr>\n",
       "</tbody>\n",
       "</table>\n"
      ],
      "text/latex": [
       "\\begin{tabular}{r|lll}\n",
       "  & education & education.binned & woe.education.binned\\\\\n",
       "\\hline\n",
       "\t1 & high.school                                  & basic.4y + professional.course + high.school &  -6.869731                                  \\\\\n",
       "\t2 & basic.9y                                     & basic.9y + basic.6y                          & -35.146021                                  \\\\\n",
       "\t4 & university.degree                            & university.degree + misc. level pos.         &  24.020807                                  \\\\\n",
       "\t5 & high.school                                  & basic.4y + professional.course + high.school &  -6.869731                                  \\\\\n",
       "\t6 & university.degree                            & university.degree + misc. level pos.         &  24.020807                                  \\\\\n",
       "\t8 & high.school                                  & basic.4y + professional.course + high.school &  -6.869731                                  \\\\\n",
       "\\end{tabular}\n"
      ],
      "text/markdown": [
       "\n",
       "| <!--/--> | education | education.binned | woe.education.binned |\n",
       "|---|---|---|---|\n",
       "| 1 | high.school                                  | basic.4y + professional.course + high.school |  -6.869731                                   |\n",
       "| 2 | basic.9y                                     | basic.9y + basic.6y                          | -35.146021                                   |\n",
       "| 4 | university.degree                            | university.degree + misc. level pos.         |  24.020807                                   |\n",
       "| 5 | high.school                                  | basic.4y + professional.course + high.school |  -6.869731                                   |\n",
       "| 6 | university.degree                            | university.degree + misc. level pos.         |  24.020807                                   |\n",
       "| 8 | high.school                                  | basic.4y + professional.course + high.school |  -6.869731                                   |\n",
       "\n"
      ],
      "text/plain": [
       "  education         education.binned                            \n",
       "1 high.school       basic.4y + professional.course + high.school\n",
       "2 basic.9y          basic.9y + basic.6y                         \n",
       "4 university.degree university.degree + misc. level pos.        \n",
       "5 high.school       basic.4y + professional.course + high.school\n",
       "6 university.degree university.degree + misc. level pos.        \n",
       "8 high.school       basic.4y + professional.course + high.school\n",
       "  woe.education.binned\n",
       "1  -6.869731          \n",
       "2 -35.146021          \n",
       "4  24.020807          \n",
       "5  -6.869731          \n",
       "6  24.020807          \n",
       "8  -6.869731          "
      ]
     },
     "metadata": {},
     "output_type": "display_data"
    }
   ],
   "source": [
    "# Apply the binning to the train data\n",
    "tmp_ed <- woe.binning.deploy(train, binning_ed, add.woe.or.dum.var='woe')\n",
    "head(tmp_ed[, c('education', 'education.binned', 'woe.education.binned')])\n"
   ]
  },
  {
   "cell_type": "code",
   "execution_count": 62,
   "metadata": {},
   "outputs": [],
   "source": [
    "# Get the IV and DV list name\n",
    "# Dependent variable (DV)\n",
    "dv_list <- c('subscribe')\n",
    "# Independent variable (IV)\n",
    "iv_list <- setdiff(colnames(train), dv_list)  # Exclude the target variable\n",
    "iv_list <- setdiff(iv_list, 'client_id')  # Exclude the client_id"
   ]
  },
  {
   "cell_type": "code",
   "execution_count": 63,
   "metadata": {},
   "outputs": [],
   "source": [
    "# Pick out categorical, boolean and numerical variable\n",
    "iv_cat_list <- c()  # List to store categorical variable\n",
    "iv_bool_list <- c()  # List to store boolean variable\n",
    "iv_num_list <- c()  # List to store numerical variable\n",
    "for (v in iv_list) {\n",
    "    if (class(train[, v]) == 'factor') {  # Factor == categorical variable\n",
    "        iv_cat_list <- c(iv_cat_list, v)\n",
    "    } else if (class(train[, v]) == 'logical') {  # Logical == boolean variable\n",
    "        iv_bool_list <- c(iv_bool_list, v)\n",
    "    } else {  # Non-factor + Non-logical == numerical variable\n",
    "        iv_num_list <- c(iv_num_list, v)\n",
    "    }\n",
    "}"
   ]
  },
  {
   "cell_type": "code",
   "execution_count": 64,
   "metadata": {},
   "outputs": [],
   "source": [
    "# Loop through all categorical variables in train and test data sets\n",
    "for (v in iv_cat_list) {\n",
    "    \n",
    "    # Remapping categorical variable on train data\n",
    "    binning_cat <- woe.binning(train, 'subscribe', v)\n",
    "    \n",
    "    # Apply the binning to the train, valid and test data\n",
    "    train <- woe.binning.deploy(train, binning_cat, add.woe.or.dum.var='woe')\n",
    "    train <- woe.binning.deploy(train, binning_ed, add.woe.or.dum.var='woe')\n",
    "\n",
    "    test <- woe.binning.deploy(test, binning_cat, add.woe.or.dum.var='woe')\n",
    "    test <- woe.binning.deploy(test, binning_ed, add.woe.or.dum.var='woe')\n",
    "    \n",
    "    # Apply the binning to the test (holdout) data\n",
    "    predictSet <- woe.binning.deploy(predictSet, binning_cat, add.woe.or.dum.var='woe')\n",
    "    predictSet <- woe.binning.deploy(predictSet, binning_ed, add.woe.or.dum.var='woe')\n",
    "\n",
    "}"
   ]
  },
  {
   "cell_type": "code",
   "execution_count": 65,
   "metadata": {},
   "outputs": [
    {
     "data": {
      "text/html": [
       "<table>\n",
       "<thead><tr><th></th><th scope=col>client_id</th><th scope=col>age</th><th scope=col>job</th><th scope=col>marital</th><th scope=col>education</th><th scope=col>default</th><th scope=col>housing</th><th scope=col>loan</th><th scope=col>contact</th><th scope=col>month</th><th scope=col>...</th><th scope=col>education.binned</th><th scope=col>woe.education.binned</th><th scope=col>day_of_week.binned</th><th scope=col>woe.day_of_week.binned</th><th scope=col>education.binned.1</th><th scope=col>woe.education.binned.1</th><th scope=col>poutcome.binned</th><th scope=col>woe.poutcome.binned</th><th scope=col>education.binned.2</th><th scope=col>woe.education.binned.2</th></tr></thead>\n",
       "<tbody>\n",
       "\t<tr><th scope=row>1</th><td>2                                           </td><td>29                                          </td><td>housemaid                                   </td><td>single                                      </td><td>high.school                                 </td><td>no                                          </td><td>no                                          </td><td>no                                          </td><td>telephone                                   </td><td>may                                         </td><td>...                                         </td><td>basic.4y + professional.course + high.school</td><td> -6.869731                                  </td><td>fri + mon                                   </td><td>-15.58485                                   </td><td>basic.4y + professional.course + high.school</td><td> -6.869731                                  </td><td>nonexistent                                 </td><td>-27.12918                                   </td><td>basic.4y + professional.course + high.school</td><td> -6.869731                                  </td></tr>\n",
       "\t<tr><th scope=row>2</th><td>3                                           </td><td>39                                          </td><td>unemployed                                  </td><td>married                                     </td><td>basic.9y                                    </td><td>unknown                                     </td><td>yes                                         </td><td>no                                          </td><td>telephone                                   </td><td>jun                                         </td><td>...                                         </td><td>basic.9y + basic.6y                         </td><td>-35.146021                                  </td><td>fri + mon                                   </td><td>-15.58485                                   </td><td>basic.9y + basic.6y                         </td><td>-35.146021                                  </td><td>nonexistent                                 </td><td>-27.12918                                   </td><td>basic.9y + basic.6y                         </td><td>-35.146021                                  </td></tr>\n",
       "\t<tr><th scope=row>4</th><td>5                                           </td><td>32                                          </td><td>self-employed                               </td><td>single                                      </td><td>university.degree                           </td><td>no                                          </td><td>yes                                         </td><td>no                                          </td><td>cellular                                    </td><td>may                                         </td><td>...                                         </td><td>university.degree + misc. level pos.        </td><td> 24.020807                                  </td><td>fri + mon                                   </td><td>-15.58485                                   </td><td>university.degree + misc. level pos.        </td><td> 24.020807                                  </td><td>failure                                     </td><td> 35.48214                                   </td><td>university.degree + misc. level pos.        </td><td> 24.020807                                  </td></tr>\n",
       "\t<tr><th scope=row>5</th><td>6                                           </td><td>29                                          </td><td>admin.                                      </td><td>single                                      </td><td>high.school                                 </td><td>unknown                                     </td><td>yes                                         </td><td>no                                          </td><td>cellular                                    </td><td>jul                                         </td><td>...                                         </td><td>basic.4y + professional.course + high.school</td><td> -6.869731                                  </td><td>fri + mon                                   </td><td>-15.58485                                   </td><td>basic.4y + professional.course + high.school</td><td> -6.869731                                  </td><td>nonexistent                                 </td><td>-27.12918                                   </td><td>basic.4y + professional.course + high.school</td><td> -6.869731                                  </td></tr>\n",
       "\t<tr><th scope=row>6</th><td>7                                           </td><td>51                                          </td><td>self-employed                               </td><td>married                                     </td><td>university.degree                           </td><td>unknown                                     </td><td>yes                                         </td><td>no                                          </td><td>telephone                                   </td><td>jun                                         </td><td>...                                         </td><td>university.degree + misc. level pos.        </td><td> 24.020807                                  </td><td>tue                                         </td><td> 13.76316                                   </td><td>university.degree + misc. level pos.        </td><td> 24.020807                                  </td><td>nonexistent                                 </td><td>-27.12918                                   </td><td>university.degree + misc. level pos.        </td><td> 24.020807                                  </td></tr>\n",
       "\t<tr><th scope=row>8</th><td>9                                           </td><td>52                                          </td><td>services                                    </td><td>married                                     </td><td>high.school                                 </td><td>no                                          </td><td>yes                                         </td><td>no                                          </td><td>cellular                                    </td><td>nov                                         </td><td>...                                         </td><td>basic.4y + professional.course + high.school</td><td> -6.869731                                  </td><td>tue                                         </td><td> 13.76316                                   </td><td>basic.4y + professional.course + high.school</td><td> -6.869731                                  </td><td>nonexistent                                 </td><td>-27.12918                                   </td><td>basic.4y + professional.course + high.school</td><td> -6.869731                                  </td></tr>\n",
       "</tbody>\n",
       "</table>\n"
      ],
      "text/latex": [
       "\\begin{tabular}{r|llllllllllllllllllllllllllllllllllllllllllllllllllllllllllllllllllllllllll}\n",
       "  & client\\_id & age & job & marital & education & default & housing & loan & contact & month & ... & education.binned & woe.education.binned & day\\_of\\_week.binned & woe.day\\_of\\_week.binned & education.binned.1 & woe.education.binned.1 & poutcome.binned & woe.poutcome.binned & education.binned.2 & woe.education.binned.2\\\\\n",
       "\\hline\n",
       "\t1 & 2                                            & 29                                           & housemaid                                    & single                                       & high.school                                  & no                                           & no                                           & no                                           & telephone                                    & may                                          & ...                                          & basic.4y + professional.course + high.school &  -6.869731                                   & fri + mon                                    & -15.58485                                    & basic.4y + professional.course + high.school &  -6.869731                                   & nonexistent                                  & -27.12918                                    & basic.4y + professional.course + high.school &  -6.869731                                  \\\\\n",
       "\t2 & 3                                            & 39                                           & unemployed                                   & married                                      & basic.9y                                     & unknown                                      & yes                                          & no                                           & telephone                                    & jun                                          & ...                                          & basic.9y + basic.6y                          & -35.146021                                   & fri + mon                                    & -15.58485                                    & basic.9y + basic.6y                          & -35.146021                                   & nonexistent                                  & -27.12918                                    & basic.9y + basic.6y                          & -35.146021                                  \\\\\n",
       "\t4 & 5                                            & 32                                           & self-employed                                & single                                       & university.degree                            & no                                           & yes                                          & no                                           & cellular                                     & may                                          & ...                                          & university.degree + misc. level pos.         &  24.020807                                   & fri + mon                                    & -15.58485                                    & university.degree + misc. level pos.         &  24.020807                                   & failure                                      &  35.48214                                    & university.degree + misc. level pos.         &  24.020807                                  \\\\\n",
       "\t5 & 6                                            & 29                                           & admin.                                       & single                                       & high.school                                  & unknown                                      & yes                                          & no                                           & cellular                                     & jul                                          & ...                                          & basic.4y + professional.course + high.school &  -6.869731                                   & fri + mon                                    & -15.58485                                    & basic.4y + professional.course + high.school &  -6.869731                                   & nonexistent                                  & -27.12918                                    & basic.4y + professional.course + high.school &  -6.869731                                  \\\\\n",
       "\t6 & 7                                            & 51                                           & self-employed                                & married                                      & university.degree                            & unknown                                      & yes                                          & no                                           & telephone                                    & jun                                          & ...                                          & university.degree + misc. level pos.         &  24.020807                                   & tue                                          &  13.76316                                    & university.degree + misc. level pos.         &  24.020807                                   & nonexistent                                  & -27.12918                                    & university.degree + misc. level pos.         &  24.020807                                  \\\\\n",
       "\t8 & 9                                            & 52                                           & services                                     & married                                      & high.school                                  & no                                           & yes                                          & no                                           & cellular                                     & nov                                          & ...                                          & basic.4y + professional.course + high.school &  -6.869731                                   & tue                                          &  13.76316                                    & basic.4y + professional.course + high.school &  -6.869731                                   & nonexistent                                  & -27.12918                                    & basic.4y + professional.course + high.school &  -6.869731                                  \\\\\n",
       "\\end{tabular}\n"
      ],
      "text/markdown": [
       "\n",
       "| <!--/--> | client_id | age | job | marital | education | default | housing | loan | contact | month | ... | education.binned | woe.education.binned | day_of_week.binned | woe.day_of_week.binned | education.binned.1 | woe.education.binned.1 | poutcome.binned | woe.poutcome.binned | education.binned.2 | woe.education.binned.2 |\n",
       "|---|---|---|---|---|---|---|---|---|---|---|---|---|---|---|---|---|---|---|---|---|---|\n",
       "| 1 | 2                                            | 29                                           | housemaid                                    | single                                       | high.school                                  | no                                           | no                                           | no                                           | telephone                                    | may                                          | ...                                          | basic.4y + professional.course + high.school |  -6.869731                                   | fri + mon                                    | -15.58485                                    | basic.4y + professional.course + high.school |  -6.869731                                   | nonexistent                                  | -27.12918                                    | basic.4y + professional.course + high.school |  -6.869731                                   |\n",
       "| 2 | 3                                            | 39                                           | unemployed                                   | married                                      | basic.9y                                     | unknown                                      | yes                                          | no                                           | telephone                                    | jun                                          | ...                                          | basic.9y + basic.6y                          | -35.146021                                   | fri + mon                                    | -15.58485                                    | basic.9y + basic.6y                          | -35.146021                                   | nonexistent                                  | -27.12918                                    | basic.9y + basic.6y                          | -35.146021                                   |\n",
       "| 4 | 5                                            | 32                                           | self-employed                                | single                                       | university.degree                            | no                                           | yes                                          | no                                           | cellular                                     | may                                          | ...                                          | university.degree + misc. level pos.         |  24.020807                                   | fri + mon                                    | -15.58485                                    | university.degree + misc. level pos.         |  24.020807                                   | failure                                      |  35.48214                                    | university.degree + misc. level pos.         |  24.020807                                   |\n",
       "| 5 | 6                                            | 29                                           | admin.                                       | single                                       | high.school                                  | unknown                                      | yes                                          | no                                           | cellular                                     | jul                                          | ...                                          | basic.4y + professional.course + high.school |  -6.869731                                   | fri + mon                                    | -15.58485                                    | basic.4y + professional.course + high.school |  -6.869731                                   | nonexistent                                  | -27.12918                                    | basic.4y + professional.course + high.school |  -6.869731                                   |\n",
       "| 6 | 7                                            | 51                                           | self-employed                                | married                                      | university.degree                            | unknown                                      | yes                                          | no                                           | telephone                                    | jun                                          | ...                                          | university.degree + misc. level pos.         |  24.020807                                   | tue                                          |  13.76316                                    | university.degree + misc. level pos.         |  24.020807                                   | nonexistent                                  | -27.12918                                    | university.degree + misc. level pos.         |  24.020807                                   |\n",
       "| 8 | 9                                            | 52                                           | services                                     | married                                      | high.school                                  | no                                           | yes                                          | no                                           | cellular                                     | nov                                          | ...                                          | basic.4y + professional.course + high.school |  -6.869731                                   | tue                                          |  13.76316                                    | basic.4y + professional.course + high.school |  -6.869731                                   | nonexistent                                  | -27.12918                                    | basic.4y + professional.course + high.school |  -6.869731                                   |\n",
       "\n"
      ],
      "text/plain": [
       "  client_id age job           marital education         default housing loan\n",
       "1 2         29  housemaid     single  high.school       no      no      no  \n",
       "2 3         39  unemployed    married basic.9y          unknown yes     no  \n",
       "4 5         32  self-employed single  university.degree no      yes     no  \n",
       "5 6         29  admin.        single  high.school       unknown yes     no  \n",
       "6 7         51  self-employed married university.degree unknown yes     no  \n",
       "8 9         52  services      married high.school       no      yes     no  \n",
       "  contact   month ... education.binned                            \n",
       "1 telephone may   ... basic.4y + professional.course + high.school\n",
       "2 telephone jun   ... basic.9y + basic.6y                         \n",
       "4 cellular  may   ... university.degree + misc. level pos.        \n",
       "5 cellular  jul   ... basic.4y + professional.course + high.school\n",
       "6 telephone jun   ... university.degree + misc. level pos.        \n",
       "8 cellular  nov   ... basic.4y + professional.course + high.school\n",
       "  woe.education.binned day_of_week.binned woe.day_of_week.binned\n",
       "1  -6.869731           fri + mon          -15.58485             \n",
       "2 -35.146021           fri + mon          -15.58485             \n",
       "4  24.020807           fri + mon          -15.58485             \n",
       "5  -6.869731           fri + mon          -15.58485             \n",
       "6  24.020807           tue                 13.76316             \n",
       "8  -6.869731           tue                 13.76316             \n",
       "  education.binned.1                           woe.education.binned.1\n",
       "1 basic.4y + professional.course + high.school  -6.869731            \n",
       "2 basic.9y + basic.6y                          -35.146021            \n",
       "4 university.degree + misc. level pos.          24.020807            \n",
       "5 basic.4y + professional.course + high.school  -6.869731            \n",
       "6 university.degree + misc. level pos.          24.020807            \n",
       "8 basic.4y + professional.course + high.school  -6.869731            \n",
       "  poutcome.binned woe.poutcome.binned\n",
       "1 nonexistent     -27.12918          \n",
       "2 nonexistent     -27.12918          \n",
       "4 failure          35.48214          \n",
       "5 nonexistent     -27.12918          \n",
       "6 nonexistent     -27.12918          \n",
       "8 nonexistent     -27.12918          \n",
       "  education.binned.2                           woe.education.binned.2\n",
       "1 basic.4y + professional.course + high.school  -6.869731            \n",
       "2 basic.9y + basic.6y                          -35.146021            \n",
       "4 university.degree + misc. level pos.          24.020807            \n",
       "5 basic.4y + professional.course + high.school  -6.869731            \n",
       "6 university.degree + misc. level pos.          24.020807            \n",
       "8 basic.4y + professional.course + high.school  -6.869731            "
      ]
     },
     "metadata": {},
     "output_type": "display_data"
    }
   ],
   "source": [
    "head(train)"
   ]
  },
  {
   "cell_type": "code",
   "execution_count": 66,
   "metadata": {},
   "outputs": [
    {
     "data": {
      "text/html": [
       "<ol>\n",
       "\t<li>'age'</li>\n",
       "\t<li><table>\n",
       "<thead><tr><th></th><th scope=col>woe</th><th scope=col>cutpoints.final</th><th scope=col>cutpoints.final[-1]</th><th scope=col>iv.total.final</th><th scope=col>1</th><th scope=col>0</th><th scope=col>col.perc.a</th><th scope=col>col.perc.b</th><th scope=col>iv.bins</th></tr></thead>\n",
       "<tbody>\n",
       "\t<tr><th scope=row>(-Inf,26]</th><td> 55.5550307 </td><td>-Inf        </td><td>26          </td><td>0.1344239   </td><td> 53         </td><td> 223        </td><td>0.08412698  </td><td>0.04826840  </td><td>1.992125e-02</td></tr>\n",
       "\t<tr><th scope=row>(26,36]</th><td>  0.7635757 </td><td>  26        </td><td>36          </td><td>0.1344239   </td><td>245         </td><td>1783        </td><td>0.38888889  </td><td>0.38593074  </td><td>2.258774e-05</td></tr>\n",
       "\t<tr><th scope=row>(36,55]</th><td>-31.5497773 </td><td>  36        </td><td>55          </td><td>0.1344239   </td><td>224         </td><td>2252        </td><td>0.35555556  </td><td>0.48744589  </td><td>4.161111e-02</td></tr>\n",
       "\t<tr><th scope=row>(55, Inf]</th><td> 78.2917180 </td><td>  55        </td><td>Inf         </td><td>0.1344239   </td><td>108         </td><td> 362        </td><td>0.17142857  </td><td>0.07835498  </td><td>7.286892e-02</td></tr>\n",
       "\t<tr><th scope=row>Missing</th><td>         NA </td><td> Inf        </td><td>Missing     </td><td>0.1344239   </td><td>  0         </td><td>   0        </td><td>0.00000000  </td><td>0.00000000  </td><td>          NA</td></tr>\n",
       "</tbody>\n",
       "</table>\n",
       "</li>\n",
       "\t<li><strong>iv.total.final:</strong> 0.134423857087314</li>\n",
       "</ol>\n"
      ],
      "text/latex": [
       "\\begin{enumerate}\n",
       "\\item 'age'\n",
       "\\item \\begin{tabular}{r|lllllllll}\n",
       "  & woe & cutpoints.final & cutpoints.final{[}-1{]} & iv.total.final & 1 & 0 & col.perc.a & col.perc.b & iv.bins\\\\\n",
       "\\hline\n",
       "\t(-Inf,26{]} &  55.5550307  & -Inf         & 26           & 0.1344239    &  53          &  223         & 0.08412698   & 0.04826840   & 1.992125e-02\\\\\n",
       "\t(26,36{]} &   0.7635757  &   26         & 36           & 0.1344239    & 245          & 1783         & 0.38888889   & 0.38593074   & 2.258774e-05\\\\\n",
       "\t(36,55{]} & -31.5497773  &   36         & 55           & 0.1344239    & 224          & 2252         & 0.35555556   & 0.48744589   & 4.161111e-02\\\\\n",
       "\t(55, Inf{]} &  78.2917180  &   55         & Inf          & 0.1344239    & 108          &  362         & 0.17142857   & 0.07835498   & 7.286892e-02\\\\\n",
       "\tMissing &          NA  &  Inf         & Missing      & 0.1344239    &   0          &    0         & 0.00000000   & 0.00000000   &           NA\\\\\n",
       "\\end{tabular}\n",
       "\n",
       "\\item \\textbf{iv.total.final:} 0.134423857087314\n",
       "\\end{enumerate}\n"
      ],
      "text/markdown": [
       "1. 'age'\n",
       "2. \n",
       "| <!--/--> | woe | cutpoints.final | cutpoints.final[-1] | iv.total.final | 1 | 0 | col.perc.a | col.perc.b | iv.bins |\n",
       "|---|---|---|---|---|---|---|---|---|---|\n",
       "| (-Inf,26] |  55.5550307  | -Inf         | 26           | 0.1344239    |  53          |  223         | 0.08412698   | 0.04826840   | 1.992125e-02 |\n",
       "| (26,36] |   0.7635757  |   26         | 36           | 0.1344239    | 245          | 1783         | 0.38888889   | 0.38593074   | 2.258774e-05 |\n",
       "| (36,55] | -31.5497773  |   36         | 55           | 0.1344239    | 224          | 2252         | 0.35555556   | 0.48744589   | 4.161111e-02 |\n",
       "| (55, Inf] |  78.2917180  |   55         | Inf          | 0.1344239    | 108          |  362         | 0.17142857   | 0.07835498   | 7.286892e-02 |\n",
       "| Missing |          NA  |  Inf         | Missing      | 0.1344239    |   0          |    0         | 0.00000000   | 0.00000000   |           NA |\n",
       "\n",
       "\n",
       "3. **iv.total.final:** 0.134423857087314\n",
       "\n",
       "\n"
      ],
      "text/plain": [
       "[[1]]\n",
       "[1] \"age\"\n",
       "\n",
       "[[2]]\n",
       "                  woe cutpoints.final cutpoints.final[-1] iv.total.final   1\n",
       "(-Inf,26]  55.5550307            -Inf                  26      0.1344239  53\n",
       "(26,36]     0.7635757              26                  36      0.1344239 245\n",
       "(36,55]   -31.5497773              36                  55      0.1344239 224\n",
       "(55, Inf]  78.2917180              55                 Inf      0.1344239 108\n",
       "Missing            NA             Inf             Missing      0.1344239   0\n",
       "             0 col.perc.a col.perc.b      iv.bins\n",
       "(-Inf,26]  223 0.08412698 0.04826840 1.992125e-02\n",
       "(26,36]   1783 0.38888889 0.38593074 2.258774e-05\n",
       "(36,55]   2252 0.35555556 0.48744589 4.161111e-02\n",
       "(55, Inf]  362 0.17142857 0.07835498 7.286892e-02\n",
       "Missing      0 0.00000000 0.00000000           NA\n",
       "\n",
       "[[3]]\n",
       "iv.total.final \n",
       "     0.1344239 \n"
      ]
     },
     "metadata": {},
     "output_type": "display_data"
    }
   ],
   "source": [
    "# Grouping the variable age onto 4 groups using WOE\n",
    "binning_age <- woe.binning(train, 'subscribe', 'age')\n",
    "binning_age"
   ]
  },
  {
   "cell_type": "code",
   "execution_count": 67,
   "metadata": {},
   "outputs": [
    {
     "data": {
      "text/html": [
       "<table>\n",
       "<thead><tr><th></th><th scope=col>age</th><th scope=col>age.binned</th><th scope=col>woe.age.binned</th></tr></thead>\n",
       "<tbody>\n",
       "\t<tr><th scope=row>1</th><td>29         </td><td>(26,36]    </td><td>  0.7635757</td></tr>\n",
       "\t<tr><th scope=row>2</th><td>39         </td><td>(36,55]    </td><td>-31.5497773</td></tr>\n",
       "\t<tr><th scope=row>4</th><td>32         </td><td>(26,36]    </td><td>  0.7635757</td></tr>\n",
       "\t<tr><th scope=row>5</th><td>29         </td><td>(26,36]    </td><td>  0.7635757</td></tr>\n",
       "\t<tr><th scope=row>6</th><td>51         </td><td>(36,55]    </td><td>-31.5497773</td></tr>\n",
       "\t<tr><th scope=row>8</th><td>52         </td><td>(36,55]    </td><td>-31.5497773</td></tr>\n",
       "</tbody>\n",
       "</table>\n"
      ],
      "text/latex": [
       "\\begin{tabular}{r|lll}\n",
       "  & age & age.binned & woe.age.binned\\\\\n",
       "\\hline\n",
       "\t1 & 29          & (26,36{]}   &   0.7635757\\\\\n",
       "\t2 & 39          & (36,55{]}   & -31.5497773\\\\\n",
       "\t4 & 32          & (26,36{]}   &   0.7635757\\\\\n",
       "\t5 & 29          & (26,36{]}   &   0.7635757\\\\\n",
       "\t6 & 51          & (36,55{]}   & -31.5497773\\\\\n",
       "\t8 & 52          & (36,55{]}   & -31.5497773\\\\\n",
       "\\end{tabular}\n"
      ],
      "text/markdown": [
       "\n",
       "| <!--/--> | age | age.binned | woe.age.binned |\n",
       "|---|---|---|---|\n",
       "| 1 | 29          | (26,36]     |   0.7635757 |\n",
       "| 2 | 39          | (36,55]     | -31.5497773 |\n",
       "| 4 | 32          | (26,36]     |   0.7635757 |\n",
       "| 5 | 29          | (26,36]     |   0.7635757 |\n",
       "| 6 | 51          | (36,55]     | -31.5497773 |\n",
       "| 8 | 52          | (36,55]     | -31.5497773 |\n",
       "\n"
      ],
      "text/plain": [
       "  age age.binned woe.age.binned\n",
       "1 29  (26,36]      0.7635757   \n",
       "2 39  (36,55]    -31.5497773   \n",
       "4 32  (26,36]      0.7635757   \n",
       "5 29  (26,36]      0.7635757   \n",
       "6 51  (36,55]    -31.5497773   \n",
       "8 52  (36,55]    -31.5497773   "
      ]
     },
     "metadata": {},
     "output_type": "display_data"
    }
   ],
   "source": [
    "# Apply the binning to the train data\n",
    "tmp <- woe.binning.deploy(train, binning_age, add.woe.or.dum.var='woe')\n",
    "head(tmp[, c('age', 'age.binned', 'woe.age.binned')])"
   ]
  },
  {
   "cell_type": "code",
   "execution_count": 68,
   "metadata": {},
   "outputs": [],
   "source": [
    "# Apply the new variable\n",
    "\n",
    "# Loop through all numerical variables\n",
    "for (v in iv_num_list) {\n",
    "    \n",
    "    # Discretizing numerical variable on train data\n",
    "    binning_age <- woe.binning(train, 'subscribe', v)\n",
    "    \n",
    "    # Apply the binning to the train, valid and test data\n",
    "    train <- woe.binning.deploy(train, binning_age, add.woe.or.dum.var='woe')\n",
    "    test <- woe.binning.deploy(test, binning_age, add.woe.or.dum.var='woe')\n",
    "    \n",
    "    # Apply the binning to the predictSet data\n",
    "    predictSet <- woe.binning.deploy(predictSet, binning_age, add.woe.or.dum.var='woe')\n",
    "}"
   ]
  },
  {
   "cell_type": "markdown",
   "metadata": {},
   "source": [
    "#### Converting categorical to dummy variables"
   ]
  },
  {
   "cell_type": "code",
   "execution_count": 69,
   "metadata": {},
   "outputs": [],
   "source": [
    "#Step 1\n",
    "# Get the IV and DV list name\n",
    "# Dependent variable (DV)\n",
    "dv_list <- c('subscribe')\n",
    "# Independent variable (IV)\n",
    "iv_list <- setdiff(colnames(train), dv_list)  # Exclude the target variable\n",
    "iv_list <- setdiff(iv_list, 'client_id')  # Exclude the client_id"
   ]
  },
  {
   "cell_type": "code",
   "execution_count": 70,
   "metadata": {},
   "outputs": [],
   "source": [
    "#Step 2\n",
    "# Pick out categorical, boolean and numerical variable\n",
    "iv_cat_list <- c()  # List to store categorical variable\n",
    "iv_bool_list <- c()  # List to store boolean variable\n",
    "iv_num_list <- c()  # List to store numerical variable\n",
    "for (v in iv_list) {\n",
    "    if (class(train[, v]) == 'factor') {  # Factor == categorical variable\n",
    "        iv_cat_list <- c(iv_cat_list, v)\n",
    "    } else if (class(train[, v]) == 'logical') {  # Logical == boolean variable\n",
    "        iv_bool_list <- c(iv_bool_list, v)\n",
    "    } else {  # Non-factor + Non-logical == numerical variable\n",
    "        iv_num_list <- c(iv_num_list, v)\n",
    "    }\n",
    "}"
   ]
  },
  {
   "cell_type": "code",
   "execution_count": 71,
   "metadata": {},
   "outputs": [
    {
     "name": "stderr",
     "output_type": "stream",
     "text": [
      "Warning message in checkAndReturnDataTable(dataSet):\n",
      "\"dataSet: has column names in double : you should take care of it. I changed them to be unique.\""
     ]
    }
   ],
   "source": [
    "#Step 3\n",
    "#Create encoding\n",
    "encoding <- build_encoding(dataSet=train, cols=\"job\", verbose=F)"
   ]
  },
  {
   "cell_type": "code",
   "execution_count": 72,
   "metadata": {},
   "outputs": [
    {
     "name": "stderr",
     "output_type": "stream",
     "text": [
      "Warning message in checkAndReturnDataTable(dataSet):\n",
      "\"dataSet: has column names in double : you should take care of it. I changed them to be unique.\""
     ]
    },
    {
     "data": {
      "text/html": [
       "<table>\n",
       "<thead><tr><th scope=col>woe.emp.var.rate.binned</th><th scope=col>cons.price.idx.binned</th><th scope=col>woe.cons.price.idx.binned</th><th scope=col>cons.conf.idx.binned</th><th scope=col>woe.cons.conf.idx.binned</th><th scope=col>euribor3m.binned</th><th scope=col>woe.euribor3m.binned</th><th scope=col>nr.employed.binned</th><th scope=col>woe.nr.employed.binned</th><th scope=col>pdays_notcontacted.binned</th><th scope=col>...</th><th scope=col>job.blue.collar</th><th scope=col>job.entrepreneur</th><th scope=col>job.housemaid</th><th scope=col>job.management</th><th scope=col>job.retired</th><th scope=col>job.self.employed</th><th scope=col>job.services</th><th scope=col>job.student</th><th scope=col>job.technician</th><th scope=col>job.unemployed</th></tr></thead>\n",
       "<tbody>\n",
       "\t<tr><td>-96.03946      </td><td>(93.918,93.994]</td><td>-134.29207     </td><td>(-41.8,-36.4]  </td><td> 12.91121      </td><td>(4.153, Inf]   </td><td>-90.579817     </td><td>(0, Inf]       </td><td>-91.04475      </td><td>(-Inf,1]       </td><td>...            </td><td>FALSE          </td><td>FALSE          </td><td> TRUE          </td><td>FALSE          </td><td>FALSE          </td><td>FALSE          </td><td>FALSE          </td><td>FALSE          </td><td>FALSE          </td><td>FALSE          </td></tr>\n",
       "\t<tr><td>-96.03946      </td><td>(93.994, Inf]  </td><td>  34.14925     </td><td>(-47.1,-41.8]  </td><td>-64.16020      </td><td>(4.153, Inf]   </td><td>-90.579817     </td><td>(0, Inf]       </td><td>-91.04475      </td><td>(-Inf,1]       </td><td>...            </td><td>FALSE          </td><td>FALSE          </td><td>FALSE          </td><td>FALSE          </td><td>FALSE          </td><td>FALSE          </td><td>FALSE          </td><td>FALSE          </td><td>FALSE          </td><td> TRUE          </td></tr>\n",
       "\t<tr><td> 43.99287      </td><td>(92.649,93.075]</td><td>  35.70686     </td><td>(-47.1,-41.8]  </td><td>-64.16020      </td><td>(1.262,4.153]  </td><td>  0.952655     </td><td>(-Inf,0]       </td><td> 91.33087      </td><td>(-Inf,1]       </td><td>...            </td><td>FALSE          </td><td>FALSE          </td><td>FALSE          </td><td>FALSE          </td><td>FALSE          </td><td> TRUE          </td><td>FALSE          </td><td>FALSE          </td><td>FALSE          </td><td>FALSE          </td></tr>\n",
       "\t<tr><td>-96.03946      </td><td>(93.075,93.918]</td><td> -42.38043     </td><td>(-47.1,-41.8]  </td><td>-64.16020      </td><td>(4.153, Inf]   </td><td>-90.579817     </td><td>(0, Inf]       </td><td>-91.04475      </td><td>(-Inf,1]       </td><td>...            </td><td>FALSE          </td><td>FALSE          </td><td>FALSE          </td><td>FALSE          </td><td>FALSE          </td><td>FALSE          </td><td>FALSE          </td><td>FALSE          </td><td>FALSE          </td><td>FALSE          </td></tr>\n",
       "\t<tr><td>-96.03946      </td><td>(93.994, Inf]  </td><td>  34.14925     </td><td>(-47.1,-41.8]  </td><td>-64.16020      </td><td>(4.153, Inf]   </td><td>-90.579817     </td><td>(0, Inf]       </td><td>-91.04475      </td><td>(-Inf,1]       </td><td>...            </td><td>FALSE          </td><td>FALSE          </td><td>FALSE          </td><td>FALSE          </td><td>FALSE          </td><td> TRUE          </td><td>FALSE          </td><td>FALSE          </td><td>FALSE          </td><td>FALSE          </td></tr>\n",
       "\t<tr><td> 43.99287      </td><td>(93.075,93.918]</td><td> -42.38043     </td><td>(-47.1,-41.8]  </td><td>-64.16020      </td><td>(1.262,4.153]  </td><td>  0.952655     </td><td>(0, Inf]       </td><td>-91.04475      </td><td>(-Inf,1]       </td><td>...            </td><td>FALSE          </td><td>FALSE          </td><td>FALSE          </td><td>FALSE          </td><td>FALSE          </td><td>FALSE          </td><td> TRUE          </td><td>FALSE          </td><td>FALSE          </td><td>FALSE          </td></tr>\n",
       "</tbody>\n",
       "</table>\n"
      ],
      "text/latex": [
       "\\begin{tabular}{r|llllllllllllllllllllllllllllllllllllllllllllll}\n",
       " woe.emp.var.rate.binned & cons.price.idx.binned & woe.cons.price.idx.binned & cons.conf.idx.binned & woe.cons.conf.idx.binned & euribor3m.binned & woe.euribor3m.binned & nr.employed.binned & woe.nr.employed.binned & pdays\\_notcontacted.binned & ... & job.blue.collar & job.entrepreneur & job.housemaid & job.management & job.retired & job.self.employed & job.services & job.student & job.technician & job.unemployed\\\\\n",
       "\\hline\n",
       "\t -96.03946         & (93.918,93.994{]} & -134.29207        & (-41.8,-36.4{]}   &  12.91121         & (4.153, Inf{]}    & -90.579817        & (0, Inf{]}        & -91.04475         & (-Inf,1{]}        & ...               & FALSE             & FALSE             &  TRUE             & FALSE             & FALSE             & FALSE             & FALSE             & FALSE             & FALSE             & FALSE            \\\\\n",
       "\t -96.03946         & (93.994, Inf{]}   &   34.14925        & (-47.1,-41.8{]}   & -64.16020         & (4.153, Inf{]}    & -90.579817        & (0, Inf{]}        & -91.04475         & (-Inf,1{]}        & ...               & FALSE             & FALSE             & FALSE             & FALSE             & FALSE             & FALSE             & FALSE             & FALSE             & FALSE             &  TRUE            \\\\\n",
       "\t  43.99287         & (92.649,93.075{]} &   35.70686        & (-47.1,-41.8{]}   & -64.16020         & (1.262,4.153{]}   &   0.952655        & (-Inf,0{]}        &  91.33087         & (-Inf,1{]}        & ...               & FALSE             & FALSE             & FALSE             & FALSE             & FALSE             &  TRUE             & FALSE             & FALSE             & FALSE             & FALSE            \\\\\n",
       "\t -96.03946         & (93.075,93.918{]} &  -42.38043        & (-47.1,-41.8{]}   & -64.16020         & (4.153, Inf{]}    & -90.579817        & (0, Inf{]}        & -91.04475         & (-Inf,1{]}        & ...               & FALSE             & FALSE             & FALSE             & FALSE             & FALSE             & FALSE             & FALSE             & FALSE             & FALSE             & FALSE            \\\\\n",
       "\t -96.03946         & (93.994, Inf{]}   &   34.14925        & (-47.1,-41.8{]}   & -64.16020         & (4.153, Inf{]}    & -90.579817        & (0, Inf{]}        & -91.04475         & (-Inf,1{]}        & ...               & FALSE             & FALSE             & FALSE             & FALSE             & FALSE             &  TRUE             & FALSE             & FALSE             & FALSE             & FALSE            \\\\\n",
       "\t  43.99287         & (93.075,93.918{]} &  -42.38043        & (-47.1,-41.8{]}   & -64.16020         & (1.262,4.153{]}   &   0.952655        & (0, Inf{]}        & -91.04475         & (-Inf,1{]}        & ...               & FALSE             & FALSE             & FALSE             & FALSE             & FALSE             & FALSE             &  TRUE             & FALSE             & FALSE             & FALSE            \\\\\n",
       "\\end{tabular}\n"
      ],
      "text/markdown": [
       "\n",
       "| woe.emp.var.rate.binned | cons.price.idx.binned | woe.cons.price.idx.binned | cons.conf.idx.binned | woe.cons.conf.idx.binned | euribor3m.binned | woe.euribor3m.binned | nr.employed.binned | woe.nr.employed.binned | pdays_notcontacted.binned | ... | job.blue.collar | job.entrepreneur | job.housemaid | job.management | job.retired | job.self.employed | job.services | job.student | job.technician | job.unemployed |\n",
       "|---|---|---|---|---|---|---|---|---|---|---|---|---|---|---|---|---|---|---|---|---|\n",
       "| -96.03946       | (93.918,93.994] | -134.29207      | (-41.8,-36.4]   |  12.91121       | (4.153, Inf]    | -90.579817      | (0, Inf]        | -91.04475       | (-Inf,1]        | ...             | FALSE           | FALSE           |  TRUE           | FALSE           | FALSE           | FALSE           | FALSE           | FALSE           | FALSE           | FALSE           |\n",
       "| -96.03946       | (93.994, Inf]   |   34.14925      | (-47.1,-41.8]   | -64.16020       | (4.153, Inf]    | -90.579817      | (0, Inf]        | -91.04475       | (-Inf,1]        | ...             | FALSE           | FALSE           | FALSE           | FALSE           | FALSE           | FALSE           | FALSE           | FALSE           | FALSE           |  TRUE           |\n",
       "|  43.99287       | (92.649,93.075] |   35.70686      | (-47.1,-41.8]   | -64.16020       | (1.262,4.153]   |   0.952655      | (-Inf,0]        |  91.33087       | (-Inf,1]        | ...             | FALSE           | FALSE           | FALSE           | FALSE           | FALSE           |  TRUE           | FALSE           | FALSE           | FALSE           | FALSE           |\n",
       "| -96.03946       | (93.075,93.918] |  -42.38043      | (-47.1,-41.8]   | -64.16020       | (4.153, Inf]    | -90.579817      | (0, Inf]        | -91.04475       | (-Inf,1]        | ...             | FALSE           | FALSE           | FALSE           | FALSE           | FALSE           | FALSE           | FALSE           | FALSE           | FALSE           | FALSE           |\n",
       "| -96.03946       | (93.994, Inf]   |   34.14925      | (-47.1,-41.8]   | -64.16020       | (4.153, Inf]    | -90.579817      | (0, Inf]        | -91.04475       | (-Inf,1]        | ...             | FALSE           | FALSE           | FALSE           | FALSE           | FALSE           |  TRUE           | FALSE           | FALSE           | FALSE           | FALSE           |\n",
       "|  43.99287       | (93.075,93.918] |  -42.38043      | (-47.1,-41.8]   | -64.16020       | (1.262,4.153]   |   0.952655      | (0, Inf]        | -91.04475       | (-Inf,1]        | ...             | FALSE           | FALSE           | FALSE           | FALSE           | FALSE           | FALSE           |  TRUE           | FALSE           | FALSE           | FALSE           |\n",
       "\n"
      ],
      "text/plain": [
       "  woe.emp.var.rate.binned cons.price.idx.binned woe.cons.price.idx.binned\n",
       "1 -96.03946               (93.918,93.994]       -134.29207               \n",
       "2 -96.03946               (93.994, Inf]           34.14925               \n",
       "3  43.99287               (92.649,93.075]         35.70686               \n",
       "4 -96.03946               (93.075,93.918]        -42.38043               \n",
       "5 -96.03946               (93.994, Inf]           34.14925               \n",
       "6  43.99287               (93.075,93.918]        -42.38043               \n",
       "  cons.conf.idx.binned woe.cons.conf.idx.binned euribor3m.binned\n",
       "1 (-41.8,-36.4]         12.91121                (4.153, Inf]    \n",
       "2 (-47.1,-41.8]        -64.16020                (4.153, Inf]    \n",
       "3 (-47.1,-41.8]        -64.16020                (1.262,4.153]   \n",
       "4 (-47.1,-41.8]        -64.16020                (4.153, Inf]    \n",
       "5 (-47.1,-41.8]        -64.16020                (4.153, Inf]    \n",
       "6 (-47.1,-41.8]        -64.16020                (1.262,4.153]   \n",
       "  woe.euribor3m.binned nr.employed.binned woe.nr.employed.binned\n",
       "1 -90.579817           (0, Inf]           -91.04475             \n",
       "2 -90.579817           (0, Inf]           -91.04475             \n",
       "3   0.952655           (-Inf,0]            91.33087             \n",
       "4 -90.579817           (0, Inf]           -91.04475             \n",
       "5 -90.579817           (0, Inf]           -91.04475             \n",
       "6   0.952655           (0, Inf]           -91.04475             \n",
       "  pdays_notcontacted.binned ... job.blue.collar job.entrepreneur job.housemaid\n",
       "1 (-Inf,1]                  ... FALSE           FALSE             TRUE        \n",
       "2 (-Inf,1]                  ... FALSE           FALSE            FALSE        \n",
       "3 (-Inf,1]                  ... FALSE           FALSE            FALSE        \n",
       "4 (-Inf,1]                  ... FALSE           FALSE            FALSE        \n",
       "5 (-Inf,1]                  ... FALSE           FALSE            FALSE        \n",
       "6 (-Inf,1]                  ... FALSE           FALSE            FALSE        \n",
       "  job.management job.retired job.self.employed job.services job.student\n",
       "1 FALSE          FALSE       FALSE             FALSE        FALSE      \n",
       "2 FALSE          FALSE       FALSE             FALSE        FALSE      \n",
       "3 FALSE          FALSE        TRUE             FALSE        FALSE      \n",
       "4 FALSE          FALSE       FALSE             FALSE        FALSE      \n",
       "5 FALSE          FALSE        TRUE             FALSE        FALSE      \n",
       "6 FALSE          FALSE       FALSE              TRUE        FALSE      \n",
       "  job.technician job.unemployed\n",
       "1 FALSE          FALSE         \n",
       "2 FALSE           TRUE         \n",
       "3 FALSE          FALSE         \n",
       "4 FALSE          FALSE         \n",
       "5 FALSE          FALSE         \n",
       "6 FALSE          FALSE         "
      ]
     },
     "metadata": {},
     "output_type": "display_data"
    }
   ],
   "source": [
    "# Transform the categorical variable\n",
    "tmp <- one_hot_encoder(dataSet=train, encoding=encoding, type='logical', drop=F, verbose=F)\n",
    "setDF(tmp)\n",
    "tmp <- tmp[, -ncol(tmp)]\n",
    "head(tmp[, 84:ncol(tmp)])"
   ]
  },
  {
   "cell_type": "code",
   "execution_count": 73,
   "metadata": {},
   "outputs": [
    {
     "name": "stderr",
     "output_type": "stream",
     "text": [
      "Warning message in checkAndReturnDataTable(dataSet):\n",
      "\"dataSet: has column names in double : you should take care of it. I changed them to be unique.\"Warning message in checkAndReturnDataTable(dataSet):\n",
      "\"dataSet: has column names in double : you should take care of it. I changed them to be unique.\""
     ]
    }
   ],
   "source": [
    "#Step 4\n",
    "#Apply variable representation to all\n",
    "\n",
    "# Loop through all categorical variables\n",
    "for (v in iv_cat_list) {\n",
    "    \n",
    "    # Representing categorical variable on train data\n",
    "    encoding <- build_encoding(dataSet=train, cols=v, verbose=F)\n",
    "    \n",
    "    # Apply the binning to the train, valid and test data\n",
    "    train <- one_hot_encoder(dataSet=train, encoding=encoding, type='logical', drop=F, verbose=F)\n",
    "    setDF(train)\n",
    "    train <- train[, -ncol(train)]  # Drop the last dummy column\n",
    "    \n",
    "    \n",
    "    test <- one_hot_encoder(dataSet=test, encoding=encoding, type='logical', drop=F, verbose=F)\n",
    "    setDF(test)\n",
    "    test <- test[, -ncol(test)]  # Drop the last dummy column\n",
    "    \n",
    "    # Apply the binning to the test (holdout) data\n",
    "    predictSet <- one_hot_encoder(dataSet=predictSet, encoding=encoding, type='logical', drop=F, verbose=F)\n",
    "    setDF(predictSet)\n",
    "    predictSet <- predictSet[, -ncol(predictSet)]  # Drop the last dummy column\n",
    "}"
   ]
  },
  {
   "cell_type": "code",
   "execution_count": 74,
   "metadata": {},
   "outputs": [
    {
     "data": {
      "text/html": [
       "<table>\n",
       "<thead><tr><th></th><th scope=col>job</th><th scope=col>job_incidence</th></tr></thead>\n",
       "<tbody>\n",
       "\t<tr><th scope=row>admin.</th><td>admin.       </td><td>0.12828207   </td></tr>\n",
       "\t<tr><th scope=row>blue-collar</th><td>blue-collar  </td><td>0.08027923   </td></tr>\n",
       "\t<tr><th scope=row>entrepreneur</th><td>entrepreneur </td><td>0.11578947   </td></tr>\n",
       "\t<tr><th scope=row>housemaid</th><td>housemaid    </td><td>0.11278195   </td></tr>\n",
       "\t<tr><th scope=row>management</th><td>management   </td><td>0.12561576   </td></tr>\n",
       "\t<tr><th scope=row>retired</th><td>retired      </td><td>0.27192982   </td></tr>\n",
       "\t<tr><th scope=row>self-employed</th><td>self-employed</td><td>0.12021858   </td></tr>\n",
       "\t<tr><th scope=row>services</th><td>services     </td><td>0.08471074   </td></tr>\n",
       "\t<tr><th scope=row>student</th><td>student      </td><td>0.32456140   </td></tr>\n",
       "\t<tr><th scope=row>technician</th><td>technician   </td><td>0.10116279   </td></tr>\n",
       "\t<tr><th scope=row>unemployed</th><td>unemployed   </td><td>0.20437956   </td></tr>\n",
       "\t<tr><th scope=row>unknown</th><td>unknown      </td><td>0.05555556   </td></tr>\n",
       "</tbody>\n",
       "</table>\n"
      ],
      "text/latex": [
       "\\begin{tabular}{r|ll}\n",
       "  & job & job\\_incidence\\\\\n",
       "\\hline\n",
       "\tadmin. & admin.        & 0.12828207   \\\\\n",
       "\tblue-collar & blue-collar   & 0.08027923   \\\\\n",
       "\tentrepreneur & entrepreneur  & 0.11578947   \\\\\n",
       "\thousemaid & housemaid     & 0.11278195   \\\\\n",
       "\tmanagement & management    & 0.12561576   \\\\\n",
       "\tretired & retired       & 0.27192982   \\\\\n",
       "\tself-employed & self-employed & 0.12021858   \\\\\n",
       "\tservices & services      & 0.08471074   \\\\\n",
       "\tstudent & student       & 0.32456140   \\\\\n",
       "\ttechnician & technician    & 0.10116279   \\\\\n",
       "\tunemployed & unemployed    & 0.20437956   \\\\\n",
       "\tunknown & unknown       & 0.05555556   \\\\\n",
       "\\end{tabular}\n"
      ],
      "text/markdown": [
       "\n",
       "| <!--/--> | job | job_incidence |\n",
       "|---|---|---|\n",
       "| admin. | admin.        | 0.12828207    |\n",
       "| blue-collar | blue-collar   | 0.08027923    |\n",
       "| entrepreneur | entrepreneur  | 0.11578947    |\n",
       "| housemaid | housemaid     | 0.11278195    |\n",
       "| management | management    | 0.12561576    |\n",
       "| retired | retired       | 0.27192982    |\n",
       "| self-employed | self-employed | 0.12021858    |\n",
       "| services | services      | 0.08471074    |\n",
       "| student | student       | 0.32456140    |\n",
       "| technician | technician    | 0.10116279    |\n",
       "| unemployed | unemployed    | 0.20437956    |\n",
       "| unknown | unknown       | 0.05555556    |\n",
       "\n"
      ],
      "text/plain": [
       "              job           job_incidence\n",
       "admin.        admin.        0.12828207   \n",
       "blue-collar   blue-collar   0.08027923   \n",
       "entrepreneur  entrepreneur  0.11578947   \n",
       "housemaid     housemaid     0.11278195   \n",
       "management    management    0.12561576   \n",
       "retired       retired       0.27192982   \n",
       "self-employed self-employed 0.12021858   \n",
       "services      services      0.08471074   \n",
       "student       student       0.32456140   \n",
       "technician    technician    0.10116279   \n",
       "unemployed    unemployed    0.20437956   \n",
       "unknown       unknown       0.05555556   "
      ]
     },
     "metadata": {},
     "output_type": "display_data"
    }
   ],
   "source": [
    "#Represent categorical variables with incidence of target variable\n",
    "\n",
    "# Find the incidence rates per category of a variable\n",
    "tb <- table(train$job, train$subscribe)\n",
    "incidence_map <- data.frame('v1'=rownames(tb), 'v2'=tb[, '1'] / (tb[, '0'] + tb[, '1']))\n",
    "colnames(incidence_map) <- c('job', 'job_incidence')\n",
    "incidence_map"
   ]
  },
  {
   "cell_type": "code",
   "execution_count": 75,
   "metadata": {},
   "outputs": [
    {
     "data": {
      "text/html": [
       "<table>\n",
       "<thead><tr><th scope=col>job</th><th scope=col>job_incidence</th></tr></thead>\n",
       "<tbody>\n",
       "\t<tr><td>housemaid    </td><td>0.11278195   </td></tr>\n",
       "\t<tr><td>unemployed   </td><td>0.20437956   </td></tr>\n",
       "\t<tr><td>self-employed</td><td>0.12021858   </td></tr>\n",
       "\t<tr><td>admin.       </td><td>0.12828207   </td></tr>\n",
       "\t<tr><td>self-employed</td><td>0.12021858   </td></tr>\n",
       "\t<tr><td>services     </td><td>0.08471074   </td></tr>\n",
       "</tbody>\n",
       "</table>\n"
      ],
      "text/latex": [
       "\\begin{tabular}{r|ll}\n",
       " job & job\\_incidence\\\\\n",
       "\\hline\n",
       "\t housemaid     & 0.11278195   \\\\\n",
       "\t unemployed    & 0.20437956   \\\\\n",
       "\t self-employed & 0.12021858   \\\\\n",
       "\t admin.        & 0.12828207   \\\\\n",
       "\t self-employed & 0.12021858   \\\\\n",
       "\t services      & 0.08471074   \\\\\n",
       "\\end{tabular}\n"
      ],
      "text/markdown": [
       "\n",
       "| job | job_incidence |\n",
       "|---|---|\n",
       "| housemaid     | 0.11278195    |\n",
       "| unemployed    | 0.20437956    |\n",
       "| self-employed | 0.12021858    |\n",
       "| admin.        | 0.12828207    |\n",
       "| self-employed | 0.12021858    |\n",
       "| services      | 0.08471074    |\n",
       "\n"
      ],
      "text/plain": [
       "  job           job_incidence\n",
       "1 housemaid     0.11278195   \n",
       "2 unemployed    0.20437956   \n",
       "3 self-employed 0.12021858   \n",
       "4 admin.        0.12828207   \n",
       "5 self-employed 0.12021858   \n",
       "6 services      0.08471074   "
      ]
     },
     "metadata": {},
     "output_type": "display_data"
    }
   ],
   "source": [
    "# Convert the categories with incidences\n",
    "tmp <- plyr::join(x=train, y=incidence_map, by='job', type=\"left\", match=\"all\")  # Left join\n",
    "head(tmp[, c('job', 'job_incidence')])"
   ]
  },
  {
   "cell_type": "code",
   "execution_count": 76,
   "metadata": {},
   "outputs": [],
   "source": [
    "# Loop through all categorical variables\n",
    "for (v in iv_cat_list) {\n",
    "    \n",
    "    # Find the incidence rates per category of a variable\n",
    "    tb <- table(train[, v], train[, 'subscribe'])\n",
    "    incidence_map <- data.frame('v1'=rownames(tb), 'v2'=tb[, '1'] / (tb[, '0'] + tb[, '1']))\n",
    "    colnames(incidence_map) <- c(v, paste0(v, '_incidence'))  # Rename the columns to join\n",
    "    \n",
    "    # Apply the variable representation to the train, valid and test data\n",
    "    train <- plyr::join(x=train, y=incidence_map, by=v, type=\"left\", match=\"all\")\n",
    "    test <- plyr::join(x=test, y=incidence_map, by=v, type=\"left\", match=\"all\")\n",
    "    \n",
    "    # Apply the binning to the test (holdout) data\n",
    "    predictSet <- plyr::join(x=predictSet, y=incidence_map, by=v, type=\"left\", match=\"all\")\n",
    "}"
   ]
  },
  {
   "cell_type": "code",
   "execution_count": 77,
   "metadata": {},
   "outputs": [],
   "source": [
    "#Standardize numerical variables\n",
    "\n",
    "# Standardize the variable age on train and test (holdout)\n",
    "# Train, valid, test\n",
    "train[, 'age_scaled'] <- scale(train[, 'age'], center=T, scale=T)  # sd = 1, mean = 0\n",
    "test[, 'age_scaled'] <- scale(test[, 'age'], center=T, scale=T)  # sd = 1, mean = 0\n",
    "# Test (holdout)\n",
    "predictSet[, 'age_scaled'] <- scale(predictSet[, 'age'], center=T, scale=T)  # sd = 1, mean = 0"
   ]
  },
  {
   "cell_type": "code",
   "execution_count": 78,
   "metadata": {},
   "outputs": [
    {
     "ename": "ERROR",
     "evalue": "Error in parse(text = x, srcfile = src): <text>:1:10: unexpected symbol\n1: Variable Correction\n             ^\n",
     "output_type": "error",
     "traceback": [
      "Error in parse(text = x, srcfile = src): <text>:1:10: unexpected symbol\n1: Variable Correction\n             ^\nTraceback:\n"
     ]
    }
   ],
   "source": [
    "Variable Correction and filtering prior to modelling"
   ]
  },
  {
   "cell_type": "code",
   "execution_count": null,
   "metadata": {},
   "outputs": [],
   "source": [
    "# Get the IV and DV list name\n",
    "# Dependent variable (DV)\n",
    "dv_list <- c('subscribe')\n",
    "# Independent variable (IV)\n",
    "iv_list <- setdiff(colnames(train), dv_list)  # Exclude the target variable\n",
    "iv_list <- setdiff(iv_list, 'client_id')  # Exclude the client_id"
   ]
  },
  {
   "cell_type": "code",
   "execution_count": null,
   "metadata": {},
   "outputs": [],
   "source": [
    "# Pick out categorical, boolean and numerical variable\n",
    "iv_cat_list <- c()  # List to store categorical variable\n",
    "iv_bool_list <- c()  # List to store boolean variable\n",
    "iv_num_list <- c()  # List to store numerical variable\n",
    "for (v in iv_list) {\n",
    "    if (class(train[, v]) == 'factor') {  # Factor == categorical variable\n",
    "        iv_cat_list <- c(iv_cat_list, v)\n",
    "    } else if (class(train[, v]) == 'logical') {  # Logical == boolean variable\n",
    "        iv_bool_list <- c(iv_bool_list, v)\n",
    "    } else {  # Non-factor + Non-logical == numerical variable\n",
    "        iv_num_list <- c(iv_num_list, v)\n",
    "    }\n",
    "}"
   ]
  },
  {
   "cell_type": "code",
   "execution_count": null,
   "metadata": {},
   "outputs": [],
   "source": [
    "# Check infinite values\n",
    "# Train,  test\n",
    "sum(apply(sapply(train, is.infinite), 2, sum))\n",
    "sum(apply(sapply(test, is.infinite), 2, sum))\n",
    "# predictSet (holdout)\n",
    "sum(apply(sapply(predictSet, is.infinite), 2, sum))"
   ]
  },
  {
   "cell_type": "code",
   "execution_count": 79,
   "metadata": {},
   "outputs": [
    {
     "data": {
      "text/html": [
       "0"
      ],
      "text/latex": [
       "0"
      ],
      "text/markdown": [
       "0"
      ],
      "text/plain": [
       "[1] 0"
      ]
     },
     "metadata": {},
     "output_type": "display_data"
    },
    {
     "data": {
      "text/html": [
       "0"
      ],
      "text/latex": [
       "0"
      ],
      "text/markdown": [
       "0"
      ],
      "text/plain": [
       "[1] 0"
      ]
     },
     "metadata": {},
     "output_type": "display_data"
    },
    {
     "data": {
      "text/html": [
       "0"
      ],
      "text/latex": [
       "0"
      ],
      "text/markdown": [
       "0"
      ],
      "text/plain": [
       "[1] 0"
      ]
     },
     "metadata": {},
     "output_type": "display_data"
    }
   ],
   "source": [
    "# Check missing value\n",
    "# Train, valid, test\n",
    "sum(apply(is.na(train), 2, sum))\n",
    "sum(apply(is.na(test), 2, sum))\n",
    "# Test (holdout)\n",
    "sum(apply(is.na(predictSet), 2, sum))"
   ]
  },
  {
   "cell_type": "markdown",
   "metadata": {},
   "source": [
    "#### Dropping categorical data and other conversions prior to modelling"
   ]
  },
  {
   "cell_type": "code",
   "execution_count": 90,
   "metadata": {},
   "outputs": [],
   "source": [
    "#Categorical variables were already processed hence drop the available values\n",
    "for (v in iv_cat_list) {\n",
    "    # Train, valid, test\n",
    "    train[, v] <- NULL\n",
    "    test[, v] <- NULL\n",
    "    \n",
    "    # Test (holdout)\n",
    "   predictSet[, v] <- NULL\n",
    "}"
   ]
  },
  {
   "cell_type": "code",
   "execution_count": 91,
   "metadata": {},
   "outputs": [],
   "source": [
    "# Convert boolean to int\n",
    "for (v in iv_bool_list) {\n",
    "    # Train, valid, test\n",
    "    train[, v] <- as.integer(train[, v])\n",
    "    test[, v] <- as.integer(test[, v])\n",
    "    \n",
    "    # Test (holdout)\n",
    "    predictSet[, v] <- as.integer(predictSet[, v])\n",
    "}"
   ]
  },
  {
   "cell_type": "code",
   "execution_count": 82,
   "metadata": {},
   "outputs": [
    {
     "data": {
      "text/html": [
       "<ol class=list-inline>\n",
       "\t<li>'poutcome_success'</li>\n",
       "\t<li>'woe.pdays.binned'</li>\n",
       "\t<li>'woe.pdays_notcontacted.binned'</li>\n",
       "\t<li>'woe.poutcome_success.binned'</li>\n",
       "</ol>\n"
      ],
      "text/latex": [
       "\\begin{enumerate*}\n",
       "\\item 'poutcome\\_success'\n",
       "\\item 'woe.pdays.binned'\n",
       "\\item 'woe.pdays\\_notcontacted.binned'\n",
       "\\item 'woe.poutcome\\_success.binned'\n",
       "\\end{enumerate*}\n"
      ],
      "text/markdown": [
       "1. 'poutcome_success'\n",
       "2. 'woe.pdays.binned'\n",
       "3. 'woe.pdays_notcontacted.binned'\n",
       "4. 'woe.poutcome_success.binned'\n",
       "\n",
       "\n"
      ],
      "text/plain": [
       "[1] \"poutcome_success\"              \"woe.pdays.binned\"             \n",
       "[3] \"woe.pdays_notcontacted.binned\" \"woe.poutcome_success.binned\"  "
      ]
     },
     "metadata": {},
     "output_type": "display_data"
    }
   ],
   "source": [
    "# Find the constant variable\n",
    "var_list <- c()\n",
    "for (v in c(iv_num_list, iv_bool_list)) {\n",
    "    var_list <- c(var_list, var(train[, v], na.rm=T))\n",
    "}\n",
    "constant_var <- c(iv_num_list, iv_bool_list)[var_list == 0]\n",
    "constant_var"
   ]
  },
  {
   "cell_type": "code",
   "execution_count": 83,
   "metadata": {},
   "outputs": [],
   "source": [
    "# Drop the constant variables\n",
    "for (v in constant_var) {\n",
    "    # Train, valid, test\n",
    "    train[, v] <- NULL\n",
    "    test[, v] <- NULL\n",
    "    \n",
    "    # Test (holdout)\n",
    "    predictSet[, v] <- NULL\n",
    "}"
   ]
  },
  {
   "cell_type": "markdown",
   "metadata": {},
   "source": [
    "#### Feature Selection using Fisher Score"
   ]
  },
  {
   "cell_type": "code",
   "execution_count": 92,
   "metadata": {},
   "outputs": [],
   "source": [
    "FisherScore <- function(basetable, depvar, IV_list) {\n",
    "  \"\n",
    "  This function calculate the Fisher score of a variable.\n",
    "  \n",
    "  Ref:\n",
    "  ---\n",
    "  Verbeke, W., Dejaeger, K., Martens, D., Hur, J., & Baesens, B. (2012). New insights into churn prediction in the telecommunication sector: A profit driven data mining approach. European Journal of Operational Research, 218(1), 211-229.\n",
    "  \"\n",
    "  \n",
    "  # Get the unique values of dependent variable\n",
    "  DV <- unique(basetable[, depvar])\n",
    "  \n",
    "  IV_FisherScore <- c()\n",
    "  \n",
    "  for (v in IV_list) {\n",
    "    fs <- abs((mean(basetable[which(basetable[, depvar]==DV[1]), v]) - mean(basetable[which(basetable[, depvar]==DV[2]), v]))) /\n",
    "      sqrt((var(basetable[which(basetable[, depvar]==DV[1]), v]) + var(basetable[which(basetable[, depvar]==DV[2]), v])))\n",
    "    IV_FisherScore <- c(IV_FisherScore, fs)\n",
    "  }\n",
    "  \n",
    "  return(data.frame(IV=IV_list, fisher_score=IV_FisherScore))\n",
    "}\n",
    "\n",
    "varSelectionFisher <- function(basetable, depvar, IV_list, num_select=20) {\n",
    "  \"\n",
    "  This function will calculate the Fisher score for all IVs and select the best\n",
    "  top IVs.\n",
    "\n",
    "  Assumption: all variables of input dataset are converted into numeric type.\n",
    "  \"\n",
    "  \n",
    "  fs <- FisherScore(basetable, depvar, IV_list)  # Calculate Fisher Score for all IVs\n",
    "  num_select <- min(num_select, ncol(basetable))  # Top N IVs to be selected\n",
    "  return(as.vector(fs[order(fs$fisher_score, decreasing=T), ][1:num_select, 'IV']))\n",
    "}"
   ]
  },
  {
   "cell_type": "code",
   "execution_count": 93,
   "metadata": {},
   "outputs": [
    {
     "name": "stderr",
     "output_type": "stream",
     "text": [
      "Warning message in mean.default(basetable[which(basetable[, depvar] == DV[1]), v]):\n",
      "\"argument is not numeric or logical: returning NA\"Warning message in mean.default(basetable[which(basetable[, depvar] == DV[2]), v]):\n",
      "\"argument is not numeric or logical: returning NA\""
     ]
    },
    {
     "ename": "ERROR",
     "evalue": "Error in var(basetable[which(basetable[, depvar] == DV[1]), v]): Calling var(x) on a factor x is defunct.\n  Use something like 'all(duplicated(x)[-1L])' to test for a constant vector.\n",
     "output_type": "error",
     "traceback": [
      "Error in var(basetable[which(basetable[, depvar] == DV[1]), v]): Calling var(x) on a factor x is defunct.\n  Use something like 'all(duplicated(x)[-1L])' to test for a constant vector.\nTraceback:\n",
      "1. FisherScore(train, dv_list, iv_list)",
      "2. var(basetable[which(basetable[, depvar] == DV[1]), v])   # at line 16-17 of file <text>"
     ]
    }
   ],
   "source": [
    "# Calculate Fisher Score for all variable\n",
    "# Get the IV and DV list\n",
    "dv_list <- c('subscribe')  # DV list\n",
    "iv_list <- setdiff(names(train), dv_list)  # IV list excluded DV\n",
    "iv_list <- setdiff(iv_list, 'client_id')  # Excluded the client_id\n",
    "fs <- FisherScore(train, dv_list, iv_list)\n",
    "head(fs)"
   ]
  },
  {
   "cell_type": "code",
   "execution_count": 86,
   "metadata": {},
   "outputs": [
    {
     "name": "stderr",
     "output_type": "stream",
     "text": [
      "Warning message in mean.default(basetable[which(basetable[, depvar] == DV[1]), v]):\n",
      "\"argument is not numeric or logical: returning NA\"Warning message in mean.default(basetable[which(basetable[, depvar] == DV[2]), v]):\n",
      "\"argument is not numeric or logical: returning NA\""
     ]
    },
    {
     "ename": "ERROR",
     "evalue": "Error in var(basetable[which(basetable[, depvar] == DV[1]), v]): Calling var(x) on a factor x is defunct.\n  Use something like 'all(duplicated(x)[-1L])' to test for a constant vector.\n",
     "output_type": "error",
     "traceback": [
      "Error in var(basetable[which(basetable[, depvar] == DV[1]), v]): Calling var(x) on a factor x is defunct.\n  Use something like 'all(duplicated(x)[-1L])' to test for a constant vector.\nTraceback:\n",
      "1. varSelectionFisher(train, dv_list, iv_list, num_select = 30)",
      "2. FisherScore(basetable, depvar, IV_list)   # at line 32 of file <text>",
      "3. var(basetable[which(basetable[, depvar] == DV[1]), v])   # at line 16-17 of file <text>"
     ]
    }
   ],
   "source": [
    "# Select top 30 variables according to the Fisher Score\n",
    "best_fs_var <- varSelectionFisher(train, dv_list, iv_list, num_select=30)\n",
    "head(best_fs_var,30)"
   ]
  },
  {
   "cell_type": "code",
   "execution_count": 94,
   "metadata": {},
   "outputs": [
    {
     "ename": "ERROR",
     "evalue": "Error in names(train) %in% best_fs_var: object 'best_fs_var' not found\n",
     "output_type": "error",
     "traceback": [
      "Error in names(train) %in% best_fs_var: object 'best_fs_var' not found\nTraceback:\n",
      "1. names(train) %in% best_fs_var"
     ]
    }
   ],
   "source": [
    "# Apply variable selection to the data\n",
    "# Train\n",
    "var_select <- names(train)[names(train) %in% best_fs_var]\n",
    "train_processed <- train[, c('client_id', var_select, 'subscribe')]\n",
    "\n",
    "# Test\n",
    "var_select <- names(test)[names(test) %in% best_fs_var]\n",
    "test_processed <- test[, c('client_id', var_select, 'subscribe')]\n",
    "# Test (holdout)\n",
    "var_select <- names(predictSet)[names(predictSet) %in% best_fs_var]\n",
    "test_holdout_processed <- predictSet[, c('client_id', var_select)]"
   ]
  },
  {
   "cell_type": "code",
   "execution_count": 95,
   "metadata": {},
   "outputs": [
    {
     "ename": "ERROR",
     "evalue": "Error in eval(expr, envir, enclos): object 'train_processed' not found\n",
     "output_type": "error",
     "traceback": [
      "Error in eval(expr, envir, enclos): object 'train_processed' not found\nTraceback:\n"
     ]
    }
   ],
   "source": [
    "# Check if train and test (holdout) have same variables\n",
    "# Train,test\n",
    "dim(train_processed)\n",
    "dim(test_processed)\n",
    "\n",
    "# Test (holdout)\n",
    "dim(test_holdout_processed)"
   ]
  },
  {
   "cell_type": "code",
   "execution_count": 96,
   "metadata": {},
   "outputs": [
    {
     "ename": "ERROR",
     "evalue": "Error in colnames(train_processed): object 'train_processed' not found\n",
     "output_type": "error",
     "traceback": [
      "Error in colnames(train_processed): object 'train_processed' not found\nTraceback:\n",
      "1. colnames(train_processed)",
      "2. is.data.frame(x)"
     ]
    }
   ],
   "source": [
    "# Rename the data columns\n",
    "for (v in colnames(train_processed)) {\n",
    "    \n",
    "    # Fix the column name\n",
    "    fix_name <- str_replace_all(v, \"[^[:alnum:] ]\", \"_\")\n",
    "    fix_name <- gsub(' +', '', fix_name) \n",
    "    \n",
    "    # Train, valid, test\n",
    "    colnames(train_processed)[colnames(train_processed) == v] <- fix_name\n",
    "    colnames(test_processed)[colnames(test_processed) == v] <- fix_name\n",
    "    \n",
    "    # Test (holdout)\n",
    "    colnames(test_holdout_processed)[colnames(test_holdout_processed) == v] <- fix_name\n",
    "}"
   ]
  },
  {
   "cell_type": "code",
   "execution_count": 97,
   "metadata": {},
   "outputs": [
    {
     "ename": "ERROR",
     "evalue": "Error in head(train_processed): object 'train_processed' not found\n",
     "output_type": "error",
     "traceback": [
      "Error in head(train_processed): object 'train_processed' not found\nTraceback:\n",
      "1. head(train_processed)"
     ]
    }
   ],
   "source": [
    "# Print out to check\n",
    "head(train_processed)"
   ]
  },
  {
   "cell_type": "markdown",
   "metadata": {},
   "source": [
    "## 4. Gradient Boosted Trees"
   ]
  },
  {
   "cell_type": "code",
   "execution_count": null,
   "metadata": {},
   "outputs": [],
   "source": [
    "#load GBM\n",
    "getParamSet(\"classif.gbm\")\n",
    "\n",
    "#set 10 fold cross validation\n",
    "rdesc <- makeResampleDesc(\"CV\",iters = 5)\n",
    "\n",
    "# Define model - make a learner\n",
    "learner <- makeLearner(\"classif.gbm\", predict.type=\"prob\", fix.factors.prediction=T)\n",
    "\n",
    "# Define the task\n",
    "train_task <- makeClassifTask(id=\"bank_train\", data=train_processed[, -1], target=\"subscribe\")\n",
    "\n",
    "\n",
    "# Set hyper parameter tuning\n",
    "tune_params <-makeParamSet(\n",
    "makeDiscreteParam(\"distribution\", values = \"bernoulli\"),\n",
    "makeIntegerParam(\"n.trees\", lower = 100, upper = 1000), #number of trees\n",
    "makeIntegerParam(\"interaction.depth\", lower = 2, upper = 10), #depth of tree\n",
    "makeNumericParam(\"shrinkage\",lower = 0.01, upper = 1)\n",
    ")\n",
    "ctrl = makeTuneControlGrid()\n",
    "\n",
    "# Run the hyper parameter tuning with k-fold CV\n",
    "if (length(tune_params$pars) > 0) {\n",
    "    # Run parameter tuning\n",
    "    res <- tuneParams(learner, task=train_task, resampling=rdesc,\n",
    "      par.set=tune_params, control=ctrl, measures=list(mlr::auc))\n",
    "    \n",
    "    # Extract best model\n",
    "    best_learner <- res$learner\n",
    "    \n",
    "} else {\n",
    "    # Simple cross-validation\n",
    "    res <- resample(learner, train_task, rdesc, measures=list(mlr::auc))\n",
    "    \n",
    "    # No parameter for tuning, only 1 best learner\n",
    "    best_learner <- learner\n",
    "}"
   ]
  },
  {
   "cell_type": "code",
   "execution_count": null,
   "metadata": {},
   "outputs": [],
   "source": [
    "#check best parameter\n",
    "res$x"
   ]
  },
  {
   "cell_type": "code",
   "execution_count": null,
   "metadata": {},
   "outputs": [],
   "source": [
    "# Retrain the model with tbe best hyper-parameters\n",
    "best_md <- mlr::train(best_learner, train_task)\n",
    "\n",
    "getLearnerModel(best_md)"
   ]
  },
  {
   "cell_type": "code",
   "execution_count": null,
   "metadata": {},
   "outputs": [],
   "source": [
    "#Accuracy of train data\n",
    "predt <- predict(best_md, newdata=train_processed[, -1])\n",
    "mlr::performance(predt, list(mlr::auc,acc,f1))"
   ]
  },
  {
   "cell_type": "code",
   "execution_count": null,
   "metadata": {},
   "outputs": [],
   "source": [
    "#Make prediction on test data\n",
    "pred <- predict(best_md, newdata=test_processed[, -1])\n",
    "#Accuracy\n",
    "mlr::performance(pred, list(mlr::auc,acc,f1))"
   ]
  },
  {
   "cell_type": "code",
   "execution_count": null,
   "metadata": {},
   "outputs": [],
   "source": [
    "# Make prediction on test (holdout) data\n",
    "pred <- predict(best_md, newdata=test_holdout_processed[, -1])\n",
    "pred"
   ]
  },
  {
   "cell_type": "code",
   "execution_count": null,
   "metadata": {},
   "outputs": [],
   "source": []
  },
  {
   "cell_type": "code",
   "execution_count": null,
   "metadata": {},
   "outputs": [],
   "source": []
  },
  {
   "cell_type": "code",
   "execution_count": null,
   "metadata": {},
   "outputs": [],
   "source": []
  },
  {
   "cell_type": "code",
   "execution_count": null,
   "metadata": {},
   "outputs": [],
   "source": []
  }
 ],
 "metadata": {
  "kernelspec": {
   "display_name": "R",
   "language": "R",
   "name": "ir"
  },
  "language_info": {
   "codemirror_mode": "r",
   "file_extension": ".r",
   "mimetype": "text/x-r-source",
   "name": "R",
   "pygments_lexer": "r",
   "version": "3.6.1"
  }
 },
 "nbformat": 4,
 "nbformat_minor": 2
}
